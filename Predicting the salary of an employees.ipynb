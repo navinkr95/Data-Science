{
 "cells": [
  {
   "cell_type": "markdown",
   "id": "ab59b482",
   "metadata": {},
   "source": [
    "1. views about the problem statement?  \n",
    "\n",
    "Answer:   \n",
    "\n",
    "TechWorks Consulting wants to develop a predictive model to determine the salary of \n",
    "newly hired employees using various features and information. It emphasizes the potential of regression to predict continuous values, such as salaries, using historical employee data. By considering factors like qualifications, experience, and performance, a regression model can be trained to predict salaries for new employees.      "
   ]
  },
  {
   "cell_type": "raw",
   "id": "c295718c",
   "metadata": {},
   "source": []
  },
  {
   "cell_type": "markdown",
   "id": "51c5b4da",
   "metadata": {},
   "source": [
    "2. What will be your approach to solving this task? \n",
    "\n",
    "Answer:  \n",
    "- Clearly understand the problem statement and the objective of predicting employee salaries based on various features.  \n",
    "- Explore the dataset to understand its structure, features, and any initial insights.  \n",
    "- Import all the required library to perform EDA Like\n",
    "  - how to handle missing values (remove, impute) for each feature if present.  \n",
    "  - Identify outliers and decide whether to remove or transform them based on their impact on the model. \n",
    "  - Convert categorical variables into numerical representations because ML model does not understand categorical variables  \n",
    "  - Scale numerical features to a common range to prevent one feature from dominating others.\n",
    "  - create graph and chart to observe the trend of the data.\n",
    "- After performing EDA\n",
    "- Split the dataset into training and testing subsets.\n",
    "- Choose regression models for the task like Multiple linear regression,Ridge, Lasso, Decision tree, Random forest etc and compare which is giving highest accuracy."
   ]
  },
  {
   "cell_type": "raw",
   "id": "3ade9db1",
   "metadata": {},
   "source": []
  },
  {
   "cell_type": "markdown",
   "id": "1b08e749",
   "metadata": {},
   "source": [
    "3. What were the available ML model options you had to perform this task?  \n",
    "\n",
    "Answer:  \n",
    "    \n",
    "I will be experimenting with algorithim:\n",
    "\n",
    "1.Multiple linear regression\n",
    "- Multiple linear regression before applying Backward Elimination Method\n",
    "- Multiple linear regression After applying Backward Elimination Method\n",
    "2.Ridge  \n",
    "3.Lasso  \n",
    "4.Validation Curve  \n",
    "- Using Ridge\n",
    "- Using Lasso\n",
    "5.Decision Tree  \n",
    "6.Random Forest  \n",
    "7.GridSearchCV  \n",
    "- using Decision Tree\n",
    "- using Random Forest\n",
    "8.Bagging  \n",
    "- using Decision Tree\n",
    "- using Random Forest\n",
    "9.Gradient Boosting  \n",
    "10.Ada Boost  \n",
    "11.XG Boost  \n"
   ]
  },
  {
   "cell_type": "raw",
   "id": "90455ee4",
   "metadata": {},
   "source": []
  },
  {
   "cell_type": "markdown",
   "id": "3d364740",
   "metadata": {},
   "source": [
    "4. Which model’s performance is best and what could be the possible reason for that?\n",
    "\n",
    "Answer:  \n",
    "\n",
    "Bagging using Random forest is performimg best among them.\n",
    "Bagging is used to improve the accuracy of random forests. Random forests are a type of ensemble model that uses bagging to combine multiple decision trees.  \n",
    "- Bagging reduces the variance of a model by averaging the predictions of multiple models.\n",
    "- Bagging makes models more stable and less sensitive to small variations in the training data. It smoothens out the decision boundaries, making the model more robust.\n",
    "- Bagging can often improve the accuracy of a model by averaging out the errors of multiple models.\n",
    "- Bagging is generally robust to outliers because it combines predictions from multiple models.\n",
    "-  Bagging can be applied to a wide range of base models, including decision trees, random forest, and more. It's a versatile technique that can enhance the performance of various algorithms.\n"
   ]
  },
  {
   "cell_type": "raw",
   "id": "b79265ad",
   "metadata": {},
   "source": []
  },
  {
   "cell_type": "markdown",
   "id": "ce6d10e4",
   "metadata": {},
   "source": [
    "5. What steps can you take to improve this selected model’s performance even further?   \n",
    "\n",
    "Answer:  \n",
    "\n",
    "- Experiment with different hyperparameters of the base model and the bagging ensemble to find the optimal combination.\n",
    "- Adjust parameters like n_estimators, criterion,max_depth,min_samples_split,min_samples_leaf etc\n",
    "- Identify and select the most relevant features for prediction.\n",
    "- Improve data preprocessing techniques, such as better encoding of categorical variables, and more effective scaling or normalization.\n",
    "- Utilize cross-validation to assess the model's generalization performance on different subsets of the data"
   ]
  },
  {
   "cell_type": "raw",
   "id": "24146027",
   "metadata": {},
   "source": []
  },
  {
   "cell_type": "code",
   "execution_count": 1,
   "id": "0436f87d",
   "metadata": {},
   "outputs": [],
   "source": [
    "# importing the libraries\n",
    "import numpy as np\n",
    "import pandas as pd\n",
    "import seaborn as sns\n",
    "import matplotlib.pyplot as plt"
   ]
  },
  {
   "cell_type": "code",
   "execution_count": 2,
   "id": "9e979c82",
   "metadata": {},
   "outputs": [],
   "source": [
    "# Load Datasets\n",
    "df=pd.read_csv(\"ML_case_Study.csv\")"
   ]
  },
  {
   "cell_type": "code",
   "execution_count": 3,
   "id": "988f9128",
   "metadata": {},
   "outputs": [],
   "source": [
    "# Load Datasets\n",
    "df1=pd.read_csv(\"Colleges.csv\")\n",
    "df2=pd.read_csv(\"cities.csv\")"
   ]
  },
  {
   "cell_type": "code",
   "execution_count": 4,
   "id": "e476cc2a",
   "metadata": {},
   "outputs": [
    {
     "data": {
      "text/html": [
       "<div>\n",
       "<style scoped>\n",
       "    .dataframe tbody tr th:only-of-type {\n",
       "        vertical-align: middle;\n",
       "    }\n",
       "\n",
       "    .dataframe tbody tr th {\n",
       "        vertical-align: top;\n",
       "    }\n",
       "\n",
       "    .dataframe thead th {\n",
       "        text-align: right;\n",
       "    }\n",
       "</style>\n",
       "<table border=\"1\" class=\"dataframe\">\n",
       "  <thead>\n",
       "    <tr style=\"text-align: right;\">\n",
       "      <th></th>\n",
       "      <th>College</th>\n",
       "      <th>City</th>\n",
       "      <th>Role</th>\n",
       "      <th>Previous CTC</th>\n",
       "      <th>Previous job change</th>\n",
       "      <th>Graduation Marks</th>\n",
       "      <th>EXP (Month)</th>\n",
       "      <th>CTC</th>\n",
       "    </tr>\n",
       "  </thead>\n",
       "  <tbody>\n",
       "    <tr>\n",
       "      <th>0</th>\n",
       "      <td>SVNIT Surat</td>\n",
       "      <td>Asansol</td>\n",
       "      <td>Manager</td>\n",
       "      <td>55523.0</td>\n",
       "      <td>3</td>\n",
       "      <td>66</td>\n",
       "      <td>19</td>\n",
       "      <td>71406.58</td>\n",
       "    </tr>\n",
       "    <tr>\n",
       "      <th>1</th>\n",
       "      <td>NIT Bhopal</td>\n",
       "      <td>Ajmer</td>\n",
       "      <td>Executive</td>\n",
       "      <td>57081.0</td>\n",
       "      <td>1</td>\n",
       "      <td>84</td>\n",
       "      <td>18</td>\n",
       "      <td>68005.87</td>\n",
       "    </tr>\n",
       "    <tr>\n",
       "      <th>2</th>\n",
       "      <td>IEM, Kolkata</td>\n",
       "      <td>Rajpur Sonarpur</td>\n",
       "      <td>Executive</td>\n",
       "      <td>60347.0</td>\n",
       "      <td>2</td>\n",
       "      <td>52</td>\n",
       "      <td>28</td>\n",
       "      <td>76764.02</td>\n",
       "    </tr>\n",
       "    <tr>\n",
       "      <th>3</th>\n",
       "      <td>KIIT, Bhubaneswar</td>\n",
       "      <td>Ajmer</td>\n",
       "      <td>Executive</td>\n",
       "      <td>49010.0</td>\n",
       "      <td>2</td>\n",
       "      <td>81</td>\n",
       "      <td>33</td>\n",
       "      <td>82092.39</td>\n",
       "    </tr>\n",
       "    <tr>\n",
       "      <th>4</th>\n",
       "      <td>DTU</td>\n",
       "      <td>Durgapur</td>\n",
       "      <td>Executive</td>\n",
       "      <td>57879.0</td>\n",
       "      <td>4</td>\n",
       "      <td>74</td>\n",
       "      <td>32</td>\n",
       "      <td>73878.10</td>\n",
       "    </tr>\n",
       "  </tbody>\n",
       "</table>\n",
       "</div>"
      ],
      "text/plain": [
       "             College             City       Role  Previous CTC  \\\n",
       "0        SVNIT Surat          Asansol    Manager       55523.0   \n",
       "1         NIT Bhopal            Ajmer  Executive       57081.0   \n",
       "2       IEM, Kolkata  Rajpur Sonarpur  Executive       60347.0   \n",
       "3  KIIT, Bhubaneswar            Ajmer  Executive       49010.0   \n",
       "4                DTU         Durgapur  Executive       57879.0   \n",
       "\n",
       "   Previous job change  Graduation Marks  EXP (Month)       CTC  \n",
       "0                    3                66           19  71406.58  \n",
       "1                    1                84           18  68005.87  \n",
       "2                    2                52           28  76764.02  \n",
       "3                    2                81           33  82092.39  \n",
       "4                    4                74           32  73878.10  "
      ]
     },
     "execution_count": 4,
     "metadata": {},
     "output_type": "execute_result"
    }
   ],
   "source": [
    "# to see top 5 data\n",
    "df.head()"
   ]
  },
  {
   "cell_type": "code",
   "execution_count": 5,
   "id": "3fb4fb26",
   "metadata": {
    "scrolled": true
   },
   "outputs": [
    {
     "data": {
      "text/html": [
       "<div>\n",
       "<style scoped>\n",
       "    .dataframe tbody tr th:only-of-type {\n",
       "        vertical-align: middle;\n",
       "    }\n",
       "\n",
       "    .dataframe tbody tr th {\n",
       "        vertical-align: top;\n",
       "    }\n",
       "\n",
       "    .dataframe thead th {\n",
       "        text-align: right;\n",
       "    }\n",
       "</style>\n",
       "<table border=\"1\" class=\"dataframe\">\n",
       "  <thead>\n",
       "    <tr style=\"text-align: right;\">\n",
       "      <th></th>\n",
       "      <th>College</th>\n",
       "      <th>City</th>\n",
       "      <th>Role</th>\n",
       "      <th>Previous CTC</th>\n",
       "      <th>Previous job change</th>\n",
       "      <th>Graduation Marks</th>\n",
       "      <th>EXP (Month)</th>\n",
       "      <th>CTC</th>\n",
       "    </tr>\n",
       "  </thead>\n",
       "  <tbody>\n",
       "    <tr>\n",
       "      <th>1584</th>\n",
       "      <td>BITS Pilani (Goa Campus)</td>\n",
       "      <td>Surat</td>\n",
       "      <td>Executive</td>\n",
       "      <td>61285.0</td>\n",
       "      <td>3</td>\n",
       "      <td>44</td>\n",
       "      <td>60</td>\n",
       "      <td>77283.59</td>\n",
       "    </tr>\n",
       "    <tr>\n",
       "      <th>1585</th>\n",
       "      <td>NIT Warangal</td>\n",
       "      <td>Rajpur Sonarpur</td>\n",
       "      <td>Executive</td>\n",
       "      <td>63140.0</td>\n",
       "      <td>1</td>\n",
       "      <td>44</td>\n",
       "      <td>24</td>\n",
       "      <td>68416.86</td>\n",
       "    </tr>\n",
       "    <tr>\n",
       "      <th>1586</th>\n",
       "      <td>NIT Tiruchipally (Trichy)</td>\n",
       "      <td>Ahmedabad</td>\n",
       "      <td>Executive</td>\n",
       "      <td>44907.0</td>\n",
       "      <td>1</td>\n",
       "      <td>60</td>\n",
       "      <td>19</td>\n",
       "      <td>70186.19</td>\n",
       "    </tr>\n",
       "    <tr>\n",
       "      <th>1587</th>\n",
       "      <td>IIIT Hyderabad</td>\n",
       "      <td>Durgapur</td>\n",
       "      <td>Executive</td>\n",
       "      <td>52054.0</td>\n",
       "      <td>2</td>\n",
       "      <td>67</td>\n",
       "      <td>29</td>\n",
       "      <td>73394.09</td>\n",
       "    </tr>\n",
       "    <tr>\n",
       "      <th>1588</th>\n",
       "      <td>R.V. College of Engineering</td>\n",
       "      <td>Delhi</td>\n",
       "      <td>Manager</td>\n",
       "      <td>44353.0</td>\n",
       "      <td>3</td>\n",
       "      <td>75</td>\n",
       "      <td>18</td>\n",
       "      <td>70056.31</td>\n",
       "    </tr>\n",
       "  </tbody>\n",
       "</table>\n",
       "</div>"
      ],
      "text/plain": [
       "                          College             City       Role  Previous CTC  \\\n",
       "1584     BITS Pilani (Goa Campus)            Surat  Executive       61285.0   \n",
       "1585                 NIT Warangal  Rajpur Sonarpur  Executive       63140.0   \n",
       "1586    NIT Tiruchipally (Trichy)        Ahmedabad  Executive       44907.0   \n",
       "1587               IIIT Hyderabad         Durgapur  Executive       52054.0   \n",
       "1588  R.V. College of Engineering            Delhi    Manager       44353.0   \n",
       "\n",
       "      Previous job change  Graduation Marks  EXP (Month)       CTC  \n",
       "1584                    3                44           60  77283.59  \n",
       "1585                    1                44           24  68416.86  \n",
       "1586                    1                60           19  70186.19  \n",
       "1587                    2                67           29  73394.09  \n",
       "1588                    3                75           18  70056.31  "
      ]
     },
     "execution_count": 5,
     "metadata": {},
     "output_type": "execute_result"
    }
   ],
   "source": [
    "# to see last 5 data\n",
    "df.tail()"
   ]
  },
  {
   "cell_type": "markdown",
   "id": "bec9fe05",
   "metadata": {},
   "source": [
    "# Exploratory Data Analysis"
   ]
  },
  {
   "cell_type": "markdown",
   "id": "a0407cf1",
   "metadata": {},
   "source": [
    "### Before training the model, we need to observe and analyse the data."
   ]
  },
  {
   "cell_type": "code",
   "execution_count": 6,
   "id": "6fbdcee8",
   "metadata": {},
   "outputs": [
    {
     "data": {
      "text/plain": [
       "College                0\n",
       "City                   0\n",
       "Role                   0\n",
       "Previous CTC           0\n",
       "Previous job change    0\n",
       "Graduation Marks       0\n",
       "EXP (Month)            0\n",
       "CTC                    0\n",
       "dtype: int64"
      ]
     },
     "execution_count": 6,
     "metadata": {},
     "output_type": "execute_result"
    }
   ],
   "source": [
    "# checking null values\n",
    "df.isnull().sum()"
   ]
  },
  {
   "cell_type": "code",
   "execution_count": 7,
   "id": "a52f8953",
   "metadata": {},
   "outputs": [
    {
     "data": {
      "text/plain": [
       "(1589, 8)"
      ]
     },
     "execution_count": 7,
     "metadata": {},
     "output_type": "execute_result"
    }
   ],
   "source": [
    "# size of the dataset\n",
    "df.shape"
   ]
  },
  {
   "cell_type": "code",
   "execution_count": 8,
   "id": "b0895af3",
   "metadata": {},
   "outputs": [
    {
     "data": {
      "text/plain": [
       "College                 object\n",
       "City                    object\n",
       "Role                    object\n",
       "Previous CTC           float64\n",
       "Previous job change      int64\n",
       "Graduation Marks         int64\n",
       "EXP (Month)              int64\n",
       "CTC                    float64\n",
       "dtype: object"
      ]
     },
     "execution_count": 8,
     "metadata": {},
     "output_type": "execute_result"
    }
   ],
   "source": [
    "# checking the type of dataset\n",
    "df.dtypes"
   ]
  },
  {
   "cell_type": "code",
   "execution_count": 9,
   "id": "93d47471",
   "metadata": {},
   "outputs": [
    {
     "name": "stdout",
     "output_type": "stream",
     "text": [
      "<class 'pandas.core.frame.DataFrame'>\n",
      "RangeIndex: 1589 entries, 0 to 1588\n",
      "Data columns (total 8 columns):\n",
      " #   Column               Non-Null Count  Dtype  \n",
      "---  ------               --------------  -----  \n",
      " 0   College              1589 non-null   object \n",
      " 1   City                 1589 non-null   object \n",
      " 2   Role                 1589 non-null   object \n",
      " 3   Previous CTC         1589 non-null   float64\n",
      " 4   Previous job change  1589 non-null   int64  \n",
      " 5   Graduation Marks     1589 non-null   int64  \n",
      " 6   EXP (Month)          1589 non-null   int64  \n",
      " 7   CTC                  1589 non-null   float64\n",
      "dtypes: float64(2), int64(3), object(3)\n",
      "memory usage: 99.4+ KB\n"
     ]
    }
   ],
   "source": [
    "# information on all columns\n",
    "df.info()"
   ]
  },
  {
   "cell_type": "code",
   "execution_count": 10,
   "id": "4df5fcd6",
   "metadata": {},
   "outputs": [
    {
     "data": {
      "text/html": [
       "<div>\n",
       "<style scoped>\n",
       "    .dataframe tbody tr th:only-of-type {\n",
       "        vertical-align: middle;\n",
       "    }\n",
       "\n",
       "    .dataframe tbody tr th {\n",
       "        vertical-align: top;\n",
       "    }\n",
       "\n",
       "    .dataframe thead th {\n",
       "        text-align: right;\n",
       "    }\n",
       "</style>\n",
       "<table border=\"1\" class=\"dataframe\">\n",
       "  <thead>\n",
       "    <tr style=\"text-align: right;\">\n",
       "      <th></th>\n",
       "      <th>Tier 1</th>\n",
       "      <th>Tier 2</th>\n",
       "      <th>Tier 3</th>\n",
       "    </tr>\n",
       "  </thead>\n",
       "  <tbody>\n",
       "    <tr>\n",
       "      <th>0</th>\n",
       "      <td>IIT Bombay</td>\n",
       "      <td>IIIT Bangalore</td>\n",
       "      <td>Ramaiah Institute of Technology, Bengaluru</td>\n",
       "    </tr>\n",
       "    <tr>\n",
       "      <th>1</th>\n",
       "      <td>IIT Delhi</td>\n",
       "      <td>IIIT Delhi</td>\n",
       "      <td>TIET/Thapar University</td>\n",
       "    </tr>\n",
       "    <tr>\n",
       "      <th>2</th>\n",
       "      <td>IIT Kharagpur</td>\n",
       "      <td>IGDTUW</td>\n",
       "      <td>Manipal Main Campus</td>\n",
       "    </tr>\n",
       "    <tr>\n",
       "      <th>3</th>\n",
       "      <td>IIT Madras</td>\n",
       "      <td>NIT Calicut</td>\n",
       "      <td>VIT Vellore</td>\n",
       "    </tr>\n",
       "    <tr>\n",
       "      <th>4</th>\n",
       "      <td>IIT Kanpur</td>\n",
       "      <td>IIITM Gwalior</td>\n",
       "      <td>SRM Main Campus</td>\n",
       "    </tr>\n",
       "  </tbody>\n",
       "</table>\n",
       "</div>"
      ],
      "text/plain": [
       "          Tier 1          Tier 2                                      Tier 3\n",
       "0     IIT Bombay  IIIT Bangalore  Ramaiah Institute of Technology, Bengaluru\n",
       "1      IIT Delhi      IIIT Delhi                      TIET/Thapar University\n",
       "2  IIT Kharagpur          IGDTUW                         Manipal Main Campus\n",
       "3     IIT Madras     NIT Calicut                                 VIT Vellore\n",
       "4     IIT Kanpur   IIITM Gwalior                             SRM Main Campus"
      ]
     },
     "execution_count": 10,
     "metadata": {},
     "output_type": "execute_result"
    }
   ],
   "source": [
    "# to see top 5 data\n",
    "df1.head()"
   ]
  },
  {
   "cell_type": "code",
   "execution_count": 11,
   "id": "b5f789ce",
   "metadata": {
    "scrolled": true
   },
   "outputs": [
    {
     "data": {
      "text/html": [
       "<div>\n",
       "<style scoped>\n",
       "    .dataframe tbody tr th:only-of-type {\n",
       "        vertical-align: middle;\n",
       "    }\n",
       "\n",
       "    .dataframe tbody tr th {\n",
       "        vertical-align: top;\n",
       "    }\n",
       "\n",
       "    .dataframe thead th {\n",
       "        text-align: right;\n",
       "    }\n",
       "</style>\n",
       "<table border=\"1\" class=\"dataframe\">\n",
       "  <thead>\n",
       "    <tr style=\"text-align: right;\">\n",
       "      <th></th>\n",
       "      <th>Metrio City</th>\n",
       "      <th>non-metro cities</th>\n",
       "    </tr>\n",
       "  </thead>\n",
       "  <tbody>\n",
       "    <tr>\n",
       "      <th>0</th>\n",
       "      <td>Mumbai</td>\n",
       "      <td>Dehradun</td>\n",
       "    </tr>\n",
       "    <tr>\n",
       "      <th>1</th>\n",
       "      <td>Delhi</td>\n",
       "      <td>Durgapur</td>\n",
       "    </tr>\n",
       "    <tr>\n",
       "      <th>2</th>\n",
       "      <td>Kolkata</td>\n",
       "      <td>Asansol</td>\n",
       "    </tr>\n",
       "    <tr>\n",
       "      <th>3</th>\n",
       "      <td>Chennai</td>\n",
       "      <td>Rourkela</td>\n",
       "    </tr>\n",
       "    <tr>\n",
       "      <th>4</th>\n",
       "      <td>Bangalore</td>\n",
       "      <td>Kozhikode</td>\n",
       "    </tr>\n",
       "  </tbody>\n",
       "</table>\n",
       "</div>"
      ],
      "text/plain": [
       "  Metrio City non-metro cities\n",
       "0      Mumbai         Dehradun\n",
       "1       Delhi         Durgapur\n",
       "2     Kolkata          Asansol\n",
       "3     Chennai         Rourkela\n",
       "4   Bangalore        Kozhikode"
      ]
     },
     "execution_count": 11,
     "metadata": {},
     "output_type": "execute_result"
    }
   ],
   "source": [
    "# to see top 5 data\n",
    "df2.head()"
   ]
  },
  {
   "cell_type": "markdown",
   "id": "4e46623f",
   "metadata": {},
   "source": [
    "#### Converting from dataframe to list of College Data"
   ]
  },
  {
   "cell_type": "code",
   "execution_count": 12,
   "id": "aba5cc07",
   "metadata": {},
   "outputs": [
    {
     "data": {
      "text/plain": [
       "['IIT Bombay',\n",
       " 'IIT Delhi',\n",
       " 'IIT Kharagpur',\n",
       " 'IIT Madras',\n",
       " 'IIT Kanpur',\n",
       " 'IIT Roorkee',\n",
       " 'IIT Guwahati',\n",
       " 'IIIT Hyderabad',\n",
       " 'BITS Pilani (Pilani Campus)',\n",
       " 'IIT Indore',\n",
       " 'IIT Ropar',\n",
       " 'IIT BHU (Varanasi)',\n",
       " 'IIT ISM Dhanbad',\n",
       " 'DTU',\n",
       " 'NSUT Delhi (NSIT)',\n",
       " 'NIT Tiruchipally (Trichy)',\n",
       " 'NIT Warangal',\n",
       " 'NIT Surathkal (Karnataka)',\n",
       " 'Jadavpur University',\n",
       " 'BITS Pilani (Hyderabad Campus)',\n",
       " 'BITS Pilani (Goa Campus)',\n",
       " 'IIIT Allahabad',\n",
       " nan,\n",
       " nan,\n",
       " nan,\n",
       " nan,\n",
       " nan,\n",
       " nan]"
      ]
     },
     "execution_count": 12,
     "metadata": {},
     "output_type": "execute_result"
    }
   ],
   "source": [
    "tier1=df1.iloc[:,0].values.tolist()\n",
    "tier1"
   ]
  },
  {
   "cell_type": "code",
   "execution_count": 13,
   "id": "49f2deec",
   "metadata": {},
   "outputs": [
    {
     "data": {
      "text/plain": [
       "['IIIT Bangalore',\n",
       " 'IIIT Delhi',\n",
       " 'IGDTUW',\n",
       " 'NIT Calicut',\n",
       " 'IIITM Gwalior',\n",
       " 'IIIT Lucknow',\n",
       " 'MNNIT Allahabad',\n",
       " 'Punjab Engineering College',\n",
       " 'DAIICT',\n",
       " 'MNIT Jaipur',\n",
       " 'NIT Durgapur',\n",
       " 'VNIT Nagpur',\n",
       " 'LNMIIT',\n",
       " 'BIT Mesra',\n",
       " 'SVNIT Surat',\n",
       " 'NIT Jalandhar',\n",
       " 'NIT Jamshedpur',\n",
       " 'NIT Kurukshetra',\n",
       " 'NIT Patna',\n",
       " 'NIT Raipur',\n",
       " 'NIT Bhopal',\n",
       " 'NIT Rourkela',\n",
       " 'NIT Silchar',\n",
       " 'NIT Sikkim',\n",
       " 'IIIT Jabalpur',\n",
       " 'Jalpaiguri Government Engineering College',\n",
       " 'IIEST/BESU Shibpur',\n",
       " 'R.V. College of Engineering']"
      ]
     },
     "execution_count": 13,
     "metadata": {},
     "output_type": "execute_result"
    }
   ],
   "source": [
    "tier2=df1.iloc[:,1].values.tolist()\n",
    "tier2"
   ]
  },
  {
   "cell_type": "code",
   "execution_count": 14,
   "id": "f811b29f",
   "metadata": {},
   "outputs": [
    {
     "data": {
      "text/plain": [
       "['Ramaiah Institute of Technology, Bengaluru',\n",
       " 'TIET/Thapar University',\n",
       " 'Manipal Main Campus',\n",
       " 'VIT Vellore',\n",
       " 'SRM Main Campus',\n",
       " 'KIIT, Bhubaneswar',\n",
       " 'Amity University',\n",
       " 'BMS College, Bangalore',\n",
       " 'PES University, Bangalore',\n",
       " 'USIT, Delhi',\n",
       " 'MAIT, Delhi',\n",
       " 'MSIT, Delhi',\n",
       " 'Dayanand College of Engineering, Bangalore',\n",
       " 'Heritage Institute of Technology, Kolkata',\n",
       " 'IEM, Kolkata',\n",
       " 'Techno India, Kolkata',\n",
       " 'Jaypee, Noida',\n",
       " 'Amrita University, Coimbatore',\n",
       " 'Cummins College of Engineering for Women, Pune',\n",
       " nan,\n",
       " nan,\n",
       " nan,\n",
       " nan,\n",
       " nan,\n",
       " nan,\n",
       " nan,\n",
       " nan,\n",
       " nan]"
      ]
     },
     "execution_count": 14,
     "metadata": {},
     "output_type": "execute_result"
    }
   ],
   "source": [
    "tier3=df1.iloc[:,2].values.tolist()\n",
    "tier3"
   ]
  },
  {
   "cell_type": "code",
   "execution_count": 15,
   "id": "8f1522e7",
   "metadata": {},
   "outputs": [],
   "source": [
    "# Creating new column \"Tier\" that will show which college comes under which tier\n",
    "for index, row in df.iterrows():\n",
    "    if row['College'] in tier1:\n",
    "        df.loc[index, 'Tier'] = 'tier1'\n",
    "    elif row['College'] in tier2:\n",
    "        df.loc[index, 'Tier'] = 'tier2'\n",
    "    elif row['College'] in tier3:\n",
    "        df.loc[index, 'Tier'] = 'tier3'"
   ]
  },
  {
   "cell_type": "code",
   "execution_count": 16,
   "id": "2128b766",
   "metadata": {},
   "outputs": [
    {
     "data": {
      "text/html": [
       "<div>\n",
       "<style scoped>\n",
       "    .dataframe tbody tr th:only-of-type {\n",
       "        vertical-align: middle;\n",
       "    }\n",
       "\n",
       "    .dataframe tbody tr th {\n",
       "        vertical-align: top;\n",
       "    }\n",
       "\n",
       "    .dataframe thead th {\n",
       "        text-align: right;\n",
       "    }\n",
       "</style>\n",
       "<table border=\"1\" class=\"dataframe\">\n",
       "  <thead>\n",
       "    <tr style=\"text-align: right;\">\n",
       "      <th></th>\n",
       "      <th>College</th>\n",
       "      <th>City</th>\n",
       "      <th>Role</th>\n",
       "      <th>Previous CTC</th>\n",
       "      <th>Previous job change</th>\n",
       "      <th>Graduation Marks</th>\n",
       "      <th>EXP (Month)</th>\n",
       "      <th>CTC</th>\n",
       "      <th>Tier</th>\n",
       "    </tr>\n",
       "  </thead>\n",
       "  <tbody>\n",
       "    <tr>\n",
       "      <th>0</th>\n",
       "      <td>SVNIT Surat</td>\n",
       "      <td>Asansol</td>\n",
       "      <td>Manager</td>\n",
       "      <td>55523.0</td>\n",
       "      <td>3</td>\n",
       "      <td>66</td>\n",
       "      <td>19</td>\n",
       "      <td>71406.58</td>\n",
       "      <td>tier2</td>\n",
       "    </tr>\n",
       "    <tr>\n",
       "      <th>1</th>\n",
       "      <td>NIT Bhopal</td>\n",
       "      <td>Ajmer</td>\n",
       "      <td>Executive</td>\n",
       "      <td>57081.0</td>\n",
       "      <td>1</td>\n",
       "      <td>84</td>\n",
       "      <td>18</td>\n",
       "      <td>68005.87</td>\n",
       "      <td>tier2</td>\n",
       "    </tr>\n",
       "    <tr>\n",
       "      <th>2</th>\n",
       "      <td>IEM, Kolkata</td>\n",
       "      <td>Rajpur Sonarpur</td>\n",
       "      <td>Executive</td>\n",
       "      <td>60347.0</td>\n",
       "      <td>2</td>\n",
       "      <td>52</td>\n",
       "      <td>28</td>\n",
       "      <td>76764.02</td>\n",
       "      <td>tier3</td>\n",
       "    </tr>\n",
       "    <tr>\n",
       "      <th>3</th>\n",
       "      <td>KIIT, Bhubaneswar</td>\n",
       "      <td>Ajmer</td>\n",
       "      <td>Executive</td>\n",
       "      <td>49010.0</td>\n",
       "      <td>2</td>\n",
       "      <td>81</td>\n",
       "      <td>33</td>\n",
       "      <td>82092.39</td>\n",
       "      <td>tier3</td>\n",
       "    </tr>\n",
       "    <tr>\n",
       "      <th>4</th>\n",
       "      <td>DTU</td>\n",
       "      <td>Durgapur</td>\n",
       "      <td>Executive</td>\n",
       "      <td>57879.0</td>\n",
       "      <td>4</td>\n",
       "      <td>74</td>\n",
       "      <td>32</td>\n",
       "      <td>73878.10</td>\n",
       "      <td>tier1</td>\n",
       "    </tr>\n",
       "  </tbody>\n",
       "</table>\n",
       "</div>"
      ],
      "text/plain": [
       "             College             City       Role  Previous CTC  \\\n",
       "0        SVNIT Surat          Asansol    Manager       55523.0   \n",
       "1         NIT Bhopal            Ajmer  Executive       57081.0   \n",
       "2       IEM, Kolkata  Rajpur Sonarpur  Executive       60347.0   \n",
       "3  KIIT, Bhubaneswar            Ajmer  Executive       49010.0   \n",
       "4                DTU         Durgapur  Executive       57879.0   \n",
       "\n",
       "   Previous job change  Graduation Marks  EXP (Month)       CTC   Tier  \n",
       "0                    3                66           19  71406.58  tier2  \n",
       "1                    1                84           18  68005.87  tier2  \n",
       "2                    2                52           28  76764.02  tier3  \n",
       "3                    2                81           33  82092.39  tier3  \n",
       "4                    4                74           32  73878.10  tier1  "
      ]
     },
     "execution_count": 16,
     "metadata": {},
     "output_type": "execute_result"
    }
   ],
   "source": [
    "df.head()"
   ]
  },
  {
   "cell_type": "markdown",
   "id": "dff5bb51",
   "metadata": {},
   "source": [
    "#### Converting from dataframe to list o fCities data"
   ]
  },
  {
   "cell_type": "code",
   "execution_count": 17,
   "id": "a8684db8",
   "metadata": {},
   "outputs": [
    {
     "data": {
      "text/plain": [
       "['Mumbai',\n",
       " 'Delhi',\n",
       " 'Kolkata',\n",
       " 'Chennai',\n",
       " 'Bangalore',\n",
       " 'Hyderabad',\n",
       " 'Ahmedabad',\n",
       " 'Pune',\n",
       " 'Surat']"
      ]
     },
     "execution_count": 17,
     "metadata": {},
     "output_type": "execute_result"
    }
   ],
   "source": [
    "metro=df2.iloc[:,0].values.tolist()\n",
    "metro"
   ]
  },
  {
   "cell_type": "code",
   "execution_count": 18,
   "id": "1a4b98d4",
   "metadata": {},
   "outputs": [
    {
     "data": {
      "text/plain": [
       "['Dehradun',\n",
       " 'Durgapur',\n",
       " 'Asansol',\n",
       " 'Rourkela',\n",
       " 'Kozhikode',\n",
       " 'Rajpur Sonarpur',\n",
       " 'Kolhapur',\n",
       " 'Ajmer',\n",
       " nan]"
      ]
     },
     "execution_count": 18,
     "metadata": {},
     "output_type": "execute_result"
    }
   ],
   "source": [
    "non_metro=df2.iloc[:,1].values.tolist()\n",
    "non_metro"
   ]
  },
  {
   "cell_type": "code",
   "execution_count": 19,
   "id": "28c50256",
   "metadata": {},
   "outputs": [],
   "source": [
    "# Creating new column \"Cities\" to categorise them under metro or non-mtero\n",
    "for index, row in df.iterrows():\n",
    "    if row['City'] in metro:\n",
    "        df.loc[index,'Cities'] = 'metro'\n",
    "    elif row['City'] in non_metro:\n",
    "        df.loc[index,'Cities'] = 'non_metro'"
   ]
  },
  {
   "cell_type": "code",
   "execution_count": 20,
   "id": "459e673c",
   "metadata": {},
   "outputs": [
    {
     "data": {
      "text/html": [
       "<div>\n",
       "<style scoped>\n",
       "    .dataframe tbody tr th:only-of-type {\n",
       "        vertical-align: middle;\n",
       "    }\n",
       "\n",
       "    .dataframe tbody tr th {\n",
       "        vertical-align: top;\n",
       "    }\n",
       "\n",
       "    .dataframe thead th {\n",
       "        text-align: right;\n",
       "    }\n",
       "</style>\n",
       "<table border=\"1\" class=\"dataframe\">\n",
       "  <thead>\n",
       "    <tr style=\"text-align: right;\">\n",
       "      <th></th>\n",
       "      <th>College</th>\n",
       "      <th>City</th>\n",
       "      <th>Role</th>\n",
       "      <th>Previous CTC</th>\n",
       "      <th>Previous job change</th>\n",
       "      <th>Graduation Marks</th>\n",
       "      <th>EXP (Month)</th>\n",
       "      <th>CTC</th>\n",
       "      <th>Tier</th>\n",
       "      <th>Cities</th>\n",
       "    </tr>\n",
       "  </thead>\n",
       "  <tbody>\n",
       "    <tr>\n",
       "      <th>0</th>\n",
       "      <td>SVNIT Surat</td>\n",
       "      <td>Asansol</td>\n",
       "      <td>Manager</td>\n",
       "      <td>55523.0</td>\n",
       "      <td>3</td>\n",
       "      <td>66</td>\n",
       "      <td>19</td>\n",
       "      <td>71406.58</td>\n",
       "      <td>tier2</td>\n",
       "      <td>non_metro</td>\n",
       "    </tr>\n",
       "    <tr>\n",
       "      <th>1</th>\n",
       "      <td>NIT Bhopal</td>\n",
       "      <td>Ajmer</td>\n",
       "      <td>Executive</td>\n",
       "      <td>57081.0</td>\n",
       "      <td>1</td>\n",
       "      <td>84</td>\n",
       "      <td>18</td>\n",
       "      <td>68005.87</td>\n",
       "      <td>tier2</td>\n",
       "      <td>non_metro</td>\n",
       "    </tr>\n",
       "    <tr>\n",
       "      <th>2</th>\n",
       "      <td>IEM, Kolkata</td>\n",
       "      <td>Rajpur Sonarpur</td>\n",
       "      <td>Executive</td>\n",
       "      <td>60347.0</td>\n",
       "      <td>2</td>\n",
       "      <td>52</td>\n",
       "      <td>28</td>\n",
       "      <td>76764.02</td>\n",
       "      <td>tier3</td>\n",
       "      <td>non_metro</td>\n",
       "    </tr>\n",
       "    <tr>\n",
       "      <th>3</th>\n",
       "      <td>KIIT, Bhubaneswar</td>\n",
       "      <td>Ajmer</td>\n",
       "      <td>Executive</td>\n",
       "      <td>49010.0</td>\n",
       "      <td>2</td>\n",
       "      <td>81</td>\n",
       "      <td>33</td>\n",
       "      <td>82092.39</td>\n",
       "      <td>tier3</td>\n",
       "      <td>non_metro</td>\n",
       "    </tr>\n",
       "    <tr>\n",
       "      <th>4</th>\n",
       "      <td>DTU</td>\n",
       "      <td>Durgapur</td>\n",
       "      <td>Executive</td>\n",
       "      <td>57879.0</td>\n",
       "      <td>4</td>\n",
       "      <td>74</td>\n",
       "      <td>32</td>\n",
       "      <td>73878.10</td>\n",
       "      <td>tier1</td>\n",
       "      <td>non_metro</td>\n",
       "    </tr>\n",
       "  </tbody>\n",
       "</table>\n",
       "</div>"
      ],
      "text/plain": [
       "             College             City       Role  Previous CTC  \\\n",
       "0        SVNIT Surat          Asansol    Manager       55523.0   \n",
       "1         NIT Bhopal            Ajmer  Executive       57081.0   \n",
       "2       IEM, Kolkata  Rajpur Sonarpur  Executive       60347.0   \n",
       "3  KIIT, Bhubaneswar            Ajmer  Executive       49010.0   \n",
       "4                DTU         Durgapur  Executive       57879.0   \n",
       "\n",
       "   Previous job change  Graduation Marks  EXP (Month)       CTC   Tier  \\\n",
       "0                    3                66           19  71406.58  tier2   \n",
       "1                    1                84           18  68005.87  tier2   \n",
       "2                    2                52           28  76764.02  tier3   \n",
       "3                    2                81           33  82092.39  tier3   \n",
       "4                    4                74           32  73878.10  tier1   \n",
       "\n",
       "      Cities  \n",
       "0  non_metro  \n",
       "1  non_metro  \n",
       "2  non_metro  \n",
       "3  non_metro  \n",
       "4  non_metro  "
      ]
     },
     "execution_count": 20,
     "metadata": {},
     "output_type": "execute_result"
    }
   ],
   "source": [
    "df.head()"
   ]
  },
  {
   "cell_type": "code",
   "execution_count": 21,
   "id": "b728f9eb",
   "metadata": {},
   "outputs": [],
   "source": [
    "# dropping College and City from Dataframe\n",
    "df.drop(['College','City'],axis=1,inplace=True)"
   ]
  },
  {
   "cell_type": "code",
   "execution_count": 22,
   "id": "c0f91fa5",
   "metadata": {},
   "outputs": [
    {
     "data": {
      "text/html": [
       "<div>\n",
       "<style scoped>\n",
       "    .dataframe tbody tr th:only-of-type {\n",
       "        vertical-align: middle;\n",
       "    }\n",
       "\n",
       "    .dataframe tbody tr th {\n",
       "        vertical-align: top;\n",
       "    }\n",
       "\n",
       "    .dataframe thead th {\n",
       "        text-align: right;\n",
       "    }\n",
       "</style>\n",
       "<table border=\"1\" class=\"dataframe\">\n",
       "  <thead>\n",
       "    <tr style=\"text-align: right;\">\n",
       "      <th></th>\n",
       "      <th>Role</th>\n",
       "      <th>Previous CTC</th>\n",
       "      <th>Previous job change</th>\n",
       "      <th>Graduation Marks</th>\n",
       "      <th>EXP (Month)</th>\n",
       "      <th>CTC</th>\n",
       "      <th>Tier</th>\n",
       "      <th>Cities</th>\n",
       "    </tr>\n",
       "  </thead>\n",
       "  <tbody>\n",
       "    <tr>\n",
       "      <th>0</th>\n",
       "      <td>Manager</td>\n",
       "      <td>55523.0</td>\n",
       "      <td>3</td>\n",
       "      <td>66</td>\n",
       "      <td>19</td>\n",
       "      <td>71406.58</td>\n",
       "      <td>tier2</td>\n",
       "      <td>non_metro</td>\n",
       "    </tr>\n",
       "    <tr>\n",
       "      <th>1</th>\n",
       "      <td>Executive</td>\n",
       "      <td>57081.0</td>\n",
       "      <td>1</td>\n",
       "      <td>84</td>\n",
       "      <td>18</td>\n",
       "      <td>68005.87</td>\n",
       "      <td>tier2</td>\n",
       "      <td>non_metro</td>\n",
       "    </tr>\n",
       "    <tr>\n",
       "      <th>2</th>\n",
       "      <td>Executive</td>\n",
       "      <td>60347.0</td>\n",
       "      <td>2</td>\n",
       "      <td>52</td>\n",
       "      <td>28</td>\n",
       "      <td>76764.02</td>\n",
       "      <td>tier3</td>\n",
       "      <td>non_metro</td>\n",
       "    </tr>\n",
       "    <tr>\n",
       "      <th>3</th>\n",
       "      <td>Executive</td>\n",
       "      <td>49010.0</td>\n",
       "      <td>2</td>\n",
       "      <td>81</td>\n",
       "      <td>33</td>\n",
       "      <td>82092.39</td>\n",
       "      <td>tier3</td>\n",
       "      <td>non_metro</td>\n",
       "    </tr>\n",
       "    <tr>\n",
       "      <th>4</th>\n",
       "      <td>Executive</td>\n",
       "      <td>57879.0</td>\n",
       "      <td>4</td>\n",
       "      <td>74</td>\n",
       "      <td>32</td>\n",
       "      <td>73878.10</td>\n",
       "      <td>tier1</td>\n",
       "      <td>non_metro</td>\n",
       "    </tr>\n",
       "  </tbody>\n",
       "</table>\n",
       "</div>"
      ],
      "text/plain": [
       "        Role  Previous CTC  Previous job change  Graduation Marks  \\\n",
       "0    Manager       55523.0                    3                66   \n",
       "1  Executive       57081.0                    1                84   \n",
       "2  Executive       60347.0                    2                52   \n",
       "3  Executive       49010.0                    2                81   \n",
       "4  Executive       57879.0                    4                74   \n",
       "\n",
       "   EXP (Month)       CTC   Tier     Cities  \n",
       "0           19  71406.58  tier2  non_metro  \n",
       "1           18  68005.87  tier2  non_metro  \n",
       "2           28  76764.02  tier3  non_metro  \n",
       "3           33  82092.39  tier3  non_metro  \n",
       "4           32  73878.10  tier1  non_metro  "
      ]
     },
     "execution_count": 22,
     "metadata": {},
     "output_type": "execute_result"
    }
   ],
   "source": [
    "df.head()"
   ]
  },
  {
   "cell_type": "code",
   "execution_count": 23,
   "id": "028b7d86",
   "metadata": {},
   "outputs": [
    {
     "data": {
      "text/plain": [
       "array(['Manager', 'Executive'], dtype=object)"
      ]
     },
     "execution_count": 23,
     "metadata": {},
     "output_type": "execute_result"
    }
   ],
   "source": [
    "# unique data present in the role\n",
    "df['Role'].unique()"
   ]
  },
  {
   "cell_type": "code",
   "execution_count": 24,
   "id": "4e77b46c",
   "metadata": {},
   "outputs": [
    {
     "name": "stderr",
     "output_type": "stream",
     "text": [
      "C:\\Users\\Navin\\anaconda3\\lib\\site-packages\\seaborn\\_decorators.py:36: FutureWarning: Pass the following variable as a keyword arg: x. From version 0.12, the only valid positional argument will be `data`, and passing other arguments without an explicit keyword will result in an error or misinterpretation.\n",
      "  warnings.warn(\n"
     ]
    },
    {
     "data": {
      "text/plain": [
       "<AxesSubplot:xlabel='Role', ylabel='count'>"
      ]
     },
     "execution_count": 24,
     "metadata": {},
     "output_type": "execute_result"
    },
    {
     "data": {
      "image/png": "[encoded data removed]",
      "text/plain": [
       "<Figure size 432x288 with 1 Axes>"
      ]
     },
     "metadata": {
      "needs_background": "light"
     },
     "output_type": "display_data"
    }
   ],
   "source": [
    "# Count of role data\n",
    "sns.countplot('Role',data=df)"
   ]
  },
  {
   "cell_type": "code",
   "execution_count": 25,
   "id": "9eb4eef9",
   "metadata": {},
   "outputs": [
    {
     "data": {
      "text/plain": [
       "Role                   0\n",
       "Previous CTC           0\n",
       "Previous job change    0\n",
       "Graduation Marks       0\n",
       "EXP (Month)            0\n",
       "CTC                    0\n",
       "Tier                   0\n",
       "Cities                 0\n",
       "dtype: int64"
      ]
     },
     "execution_count": 25,
     "metadata": {},
     "output_type": "execute_result"
    }
   ],
   "source": [
    "# checking null values\n",
    "df.isnull().sum()"
   ]
  },
  {
   "cell_type": "code",
   "execution_count": 26,
   "id": "672ab80d",
   "metadata": {},
   "outputs": [
    {
     "data": {
      "text/html": [
       "<div>\n",
       "<style scoped>\n",
       "    .dataframe tbody tr th:only-of-type {\n",
       "        vertical-align: middle;\n",
       "    }\n",
       "\n",
       "    .dataframe tbody tr th {\n",
       "        vertical-align: top;\n",
       "    }\n",
       "\n",
       "    .dataframe thead th {\n",
       "        text-align: right;\n",
       "    }\n",
       "</style>\n",
       "<table border=\"1\" class=\"dataframe\">\n",
       "  <thead>\n",
       "    <tr style=\"text-align: right;\">\n",
       "      <th></th>\n",
       "      <th>Previous CTC</th>\n",
       "      <th>Previous job change</th>\n",
       "      <th>Graduation Marks</th>\n",
       "      <th>EXP (Month)</th>\n",
       "      <th>CTC</th>\n",
       "      <th>Role_Executive</th>\n",
       "      <th>Role_Manager</th>\n",
       "      <th>Tier_tier1</th>\n",
       "      <th>Tier_tier2</th>\n",
       "      <th>Tier_tier3</th>\n",
       "      <th>Cities_metro</th>\n",
       "      <th>Cities_non_metro</th>\n",
       "    </tr>\n",
       "  </thead>\n",
       "  <tbody>\n",
       "    <tr>\n",
       "      <th>0</th>\n",
       "      <td>55523.0</td>\n",
       "      <td>3</td>\n",
       "      <td>66</td>\n",
       "      <td>19</td>\n",
       "      <td>71406.58</td>\n",
       "      <td>0</td>\n",
       "      <td>1</td>\n",
       "      <td>0</td>\n",
       "      <td>1</td>\n",
       "      <td>0</td>\n",
       "      <td>0</td>\n",
       "      <td>1</td>\n",
       "    </tr>\n",
       "    <tr>\n",
       "      <th>1</th>\n",
       "      <td>57081.0</td>\n",
       "      <td>1</td>\n",
       "      <td>84</td>\n",
       "      <td>18</td>\n",
       "      <td>68005.87</td>\n",
       "      <td>1</td>\n",
       "      <td>0</td>\n",
       "      <td>0</td>\n",
       "      <td>1</td>\n",
       "      <td>0</td>\n",
       "      <td>0</td>\n",
       "      <td>1</td>\n",
       "    </tr>\n",
       "    <tr>\n",
       "      <th>2</th>\n",
       "      <td>60347.0</td>\n",
       "      <td>2</td>\n",
       "      <td>52</td>\n",
       "      <td>28</td>\n",
       "      <td>76764.02</td>\n",
       "      <td>1</td>\n",
       "      <td>0</td>\n",
       "      <td>0</td>\n",
       "      <td>0</td>\n",
       "      <td>1</td>\n",
       "      <td>0</td>\n",
       "      <td>1</td>\n",
       "    </tr>\n",
       "    <tr>\n",
       "      <th>3</th>\n",
       "      <td>49010.0</td>\n",
       "      <td>2</td>\n",
       "      <td>81</td>\n",
       "      <td>33</td>\n",
       "      <td>82092.39</td>\n",
       "      <td>1</td>\n",
       "      <td>0</td>\n",
       "      <td>0</td>\n",
       "      <td>0</td>\n",
       "      <td>1</td>\n",
       "      <td>0</td>\n",
       "      <td>1</td>\n",
       "    </tr>\n",
       "    <tr>\n",
       "      <th>4</th>\n",
       "      <td>57879.0</td>\n",
       "      <td>4</td>\n",
       "      <td>74</td>\n",
       "      <td>32</td>\n",
       "      <td>73878.10</td>\n",
       "      <td>1</td>\n",
       "      <td>0</td>\n",
       "      <td>1</td>\n",
       "      <td>0</td>\n",
       "      <td>0</td>\n",
       "      <td>0</td>\n",
       "      <td>1</td>\n",
       "    </tr>\n",
       "  </tbody>\n",
       "</table>\n",
       "</div>"
      ],
      "text/plain": [
       "   Previous CTC  Previous job change  Graduation Marks  EXP (Month)       CTC  \\\n",
       "0       55523.0                    3                66           19  71406.58   \n",
       "1       57081.0                    1                84           18  68005.87   \n",
       "2       60347.0                    2                52           28  76764.02   \n",
       "3       49010.0                    2                81           33  82092.39   \n",
       "4       57879.0                    4                74           32  73878.10   \n",
       "\n",
       "   Role_Executive  Role_Manager  Tier_tier1  Tier_tier2  Tier_tier3  \\\n",
       "0               0             1           0           1           0   \n",
       "1               1             0           0           1           0   \n",
       "2               1             0           0           0           1   \n",
       "3               1             0           0           0           1   \n",
       "4               1             0           1           0           0   \n",
       "\n",
       "   Cities_metro  Cities_non_metro  \n",
       "0             0                 1  \n",
       "1             0                 1  \n",
       "2             0                 1  \n",
       "3             0                 1  \n",
       "4             0                 1  "
      ]
     },
     "execution_count": 26,
     "metadata": {},
     "output_type": "execute_result"
    }
   ],
   "source": [
    "# Converting categorical data into numerical\n",
    "df = pd.get_dummies(df,columns = [\"Role\",'Tier','Cities'])\n",
    "df.head()"
   ]
  },
  {
   "cell_type": "code",
   "execution_count": 27,
   "id": "9638513c",
   "metadata": {},
   "outputs": [],
   "source": [
    "# droping 'Cities_non_metro' column from dataset\n",
    "df.drop(['Cities_non_metro'],axis=1,inplace=True)"
   ]
  },
  {
   "cell_type": "code",
   "execution_count": 28,
   "id": "b6a8d899",
   "metadata": {},
   "outputs": [
    {
     "data": {
      "text/html": [
       "<div>\n",
       "<style scoped>\n",
       "    .dataframe tbody tr th:only-of-type {\n",
       "        vertical-align: middle;\n",
       "    }\n",
       "\n",
       "    .dataframe tbody tr th {\n",
       "        vertical-align: top;\n",
       "    }\n",
       "\n",
       "    .dataframe thead th {\n",
       "        text-align: right;\n",
       "    }\n",
       "</style>\n",
       "<table border=\"1\" class=\"dataframe\">\n",
       "  <thead>\n",
       "    <tr style=\"text-align: right;\">\n",
       "      <th></th>\n",
       "      <th>Previous CTC</th>\n",
       "      <th>Previous job change</th>\n",
       "      <th>Graduation Marks</th>\n",
       "      <th>EXP (Month)</th>\n",
       "      <th>CTC</th>\n",
       "      <th>Role_Executive</th>\n",
       "      <th>Role_Manager</th>\n",
       "      <th>Tier_tier1</th>\n",
       "      <th>Tier_tier2</th>\n",
       "      <th>Tier_tier3</th>\n",
       "      <th>Cities_metro</th>\n",
       "    </tr>\n",
       "  </thead>\n",
       "  <tbody>\n",
       "    <tr>\n",
       "      <th>0</th>\n",
       "      <td>55523.0</td>\n",
       "      <td>3</td>\n",
       "      <td>66</td>\n",
       "      <td>19</td>\n",
       "      <td>71406.58</td>\n",
       "      <td>0</td>\n",
       "      <td>1</td>\n",
       "      <td>0</td>\n",
       "      <td>1</td>\n",
       "      <td>0</td>\n",
       "      <td>0</td>\n",
       "    </tr>\n",
       "    <tr>\n",
       "      <th>1</th>\n",
       "      <td>57081.0</td>\n",
       "      <td>1</td>\n",
       "      <td>84</td>\n",
       "      <td>18</td>\n",
       "      <td>68005.87</td>\n",
       "      <td>1</td>\n",
       "      <td>0</td>\n",
       "      <td>0</td>\n",
       "      <td>1</td>\n",
       "      <td>0</td>\n",
       "      <td>0</td>\n",
       "    </tr>\n",
       "    <tr>\n",
       "      <th>2</th>\n",
       "      <td>60347.0</td>\n",
       "      <td>2</td>\n",
       "      <td>52</td>\n",
       "      <td>28</td>\n",
       "      <td>76764.02</td>\n",
       "      <td>1</td>\n",
       "      <td>0</td>\n",
       "      <td>0</td>\n",
       "      <td>0</td>\n",
       "      <td>1</td>\n",
       "      <td>0</td>\n",
       "    </tr>\n",
       "    <tr>\n",
       "      <th>3</th>\n",
       "      <td>49010.0</td>\n",
       "      <td>2</td>\n",
       "      <td>81</td>\n",
       "      <td>33</td>\n",
       "      <td>82092.39</td>\n",
       "      <td>1</td>\n",
       "      <td>0</td>\n",
       "      <td>0</td>\n",
       "      <td>0</td>\n",
       "      <td>1</td>\n",
       "      <td>0</td>\n",
       "    </tr>\n",
       "    <tr>\n",
       "      <th>4</th>\n",
       "      <td>57879.0</td>\n",
       "      <td>4</td>\n",
       "      <td>74</td>\n",
       "      <td>32</td>\n",
       "      <td>73878.10</td>\n",
       "      <td>1</td>\n",
       "      <td>0</td>\n",
       "      <td>1</td>\n",
       "      <td>0</td>\n",
       "      <td>0</td>\n",
       "      <td>0</td>\n",
       "    </tr>\n",
       "  </tbody>\n",
       "</table>\n",
       "</div>"
      ],
      "text/plain": [
       "   Previous CTC  Previous job change  Graduation Marks  EXP (Month)       CTC  \\\n",
       "0       55523.0                    3                66           19  71406.58   \n",
       "1       57081.0                    1                84           18  68005.87   \n",
       "2       60347.0                    2                52           28  76764.02   \n",
       "3       49010.0                    2                81           33  82092.39   \n",
       "4       57879.0                    4                74           32  73878.10   \n",
       "\n",
       "   Role_Executive  Role_Manager  Tier_tier1  Tier_tier2  Tier_tier3  \\\n",
       "0               0             1           0           1           0   \n",
       "1               1             0           0           1           0   \n",
       "2               1             0           0           0           1   \n",
       "3               1             0           0           0           1   \n",
       "4               1             0           1           0           0   \n",
       "\n",
       "   Cities_metro  \n",
       "0             0  \n",
       "1             0  \n",
       "2             0  \n",
       "3             0  \n",
       "4             0  "
      ]
     },
     "execution_count": 28,
     "metadata": {},
     "output_type": "execute_result"
    }
   ],
   "source": [
    "df.head()"
   ]
  },
  {
   "cell_type": "code",
   "execution_count": 29,
   "id": "d1cf450a",
   "metadata": {},
   "outputs": [
    {
     "data": {
      "text/html": [
       "<div>\n",
       "<style scoped>\n",
       "    .dataframe tbody tr th:only-of-type {\n",
       "        vertical-align: middle;\n",
       "    }\n",
       "\n",
       "    .dataframe tbody tr th {\n",
       "        vertical-align: top;\n",
       "    }\n",
       "\n",
       "    .dataframe thead th {\n",
       "        text-align: right;\n",
       "    }\n",
       "</style>\n",
       "<table border=\"1\" class=\"dataframe\">\n",
       "  <thead>\n",
       "    <tr style=\"text-align: right;\">\n",
       "      <th></th>\n",
       "      <th>Previous CTC</th>\n",
       "      <th>Previous job change</th>\n",
       "      <th>Graduation Marks</th>\n",
       "      <th>EXP (Month)</th>\n",
       "      <th>CTC</th>\n",
       "      <th>Role_Executive</th>\n",
       "      <th>Role_Manager</th>\n",
       "      <th>Tier_tier1</th>\n",
       "      <th>Tier_tier2</th>\n",
       "      <th>Tier_tier3</th>\n",
       "      <th>Cities_metro</th>\n",
       "    </tr>\n",
       "  </thead>\n",
       "  <tbody>\n",
       "    <tr>\n",
       "      <th>count</th>\n",
       "      <td>1589.000000</td>\n",
       "      <td>1589.000000</td>\n",
       "      <td>1589.000000</td>\n",
       "      <td>1589.000000</td>\n",
       "      <td>1589.000000</td>\n",
       "      <td>1589.000000</td>\n",
       "      <td>1589.000000</td>\n",
       "      <td>1589.000000</td>\n",
       "      <td>1589.000000</td>\n",
       "      <td>1589.000000</td>\n",
       "      <td>1589.000000</td>\n",
       "    </tr>\n",
       "    <tr>\n",
       "      <th>mean</th>\n",
       "      <td>55518.453744</td>\n",
       "      <td>2.528634</td>\n",
       "      <td>59.855255</td>\n",
       "      <td>39.044682</td>\n",
       "      <td>75353.278798</td>\n",
       "      <td>0.793581</td>\n",
       "      <td>0.206419</td>\n",
       "      <td>0.363751</td>\n",
       "      <td>0.297042</td>\n",
       "      <td>0.339207</td>\n",
       "      <td>0.514160</td>\n",
       "    </tr>\n",
       "    <tr>\n",
       "      <th>std</th>\n",
       "      <td>6655.218445</td>\n",
       "      <td>1.123918</td>\n",
       "      <td>14.935139</td>\n",
       "      <td>14.108875</td>\n",
       "      <td>12587.288237</td>\n",
       "      <td>0.404862</td>\n",
       "      <td>0.404862</td>\n",
       "      <td>0.481230</td>\n",
       "      <td>0.457099</td>\n",
       "      <td>0.473589</td>\n",
       "      <td>0.499957</td>\n",
       "    </tr>\n",
       "    <tr>\n",
       "      <th>min</th>\n",
       "      <td>36990.000000</td>\n",
       "      <td>1.000000</td>\n",
       "      <td>35.000000</td>\n",
       "      <td>18.000000</td>\n",
       "      <td>53020.320000</td>\n",
       "      <td>0.000000</td>\n",
       "      <td>0.000000</td>\n",
       "      <td>0.000000</td>\n",
       "      <td>0.000000</td>\n",
       "      <td>0.000000</td>\n",
       "      <td>0.000000</td>\n",
       "    </tr>\n",
       "    <tr>\n",
       "      <th>25%</th>\n",
       "      <td>50518.000000</td>\n",
       "      <td>2.000000</td>\n",
       "      <td>46.000000</td>\n",
       "      <td>26.000000</td>\n",
       "      <td>66902.350000</td>\n",
       "      <td>1.000000</td>\n",
       "      <td>0.000000</td>\n",
       "      <td>0.000000</td>\n",
       "      <td>0.000000</td>\n",
       "      <td>0.000000</td>\n",
       "      <td>0.000000</td>\n",
       "    </tr>\n",
       "    <tr>\n",
       "      <th>50%</th>\n",
       "      <td>55291.000000</td>\n",
       "      <td>3.000000</td>\n",
       "      <td>60.000000</td>\n",
       "      <td>39.000000</td>\n",
       "      <td>73028.670000</td>\n",
       "      <td>1.000000</td>\n",
       "      <td>0.000000</td>\n",
       "      <td>0.000000</td>\n",
       "      <td>0.000000</td>\n",
       "      <td>0.000000</td>\n",
       "      <td>1.000000</td>\n",
       "    </tr>\n",
       "    <tr>\n",
       "      <th>75%</th>\n",
       "      <td>60109.000000</td>\n",
       "      <td>4.000000</td>\n",
       "      <td>73.000000</td>\n",
       "      <td>51.000000</td>\n",
       "      <td>80588.670000</td>\n",
       "      <td>1.000000</td>\n",
       "      <td>0.000000</td>\n",
       "      <td>1.000000</td>\n",
       "      <td>1.000000</td>\n",
       "      <td>1.000000</td>\n",
       "      <td>1.000000</td>\n",
       "    </tr>\n",
       "    <tr>\n",
       "      <th>max</th>\n",
       "      <td>77911.000000</td>\n",
       "      <td>4.000000</td>\n",
       "      <td>85.000000</td>\n",
       "      <td>64.000000</td>\n",
       "      <td>123416.990000</td>\n",
       "      <td>1.000000</td>\n",
       "      <td>1.000000</td>\n",
       "      <td>1.000000</td>\n",
       "      <td>1.000000</td>\n",
       "      <td>1.000000</td>\n",
       "      <td>1.000000</td>\n",
       "    </tr>\n",
       "  </tbody>\n",
       "</table>\n",
       "</div>"
      ],
      "text/plain": [
       "       Previous CTC  Previous job change  Graduation Marks  EXP (Month)  \\\n",
       "count   1589.000000          1589.000000       1589.000000  1589.000000   \n",
       "mean   55518.453744             2.528634         59.855255    39.044682   \n",
       "std     6655.218445             1.123918         14.935139    14.108875   \n",
       "min    36990.000000             1.000000         35.000000    18.000000   \n",
       "25%    50518.000000             2.000000         46.000000    26.000000   \n",
       "50%    55291.000000             3.000000         60.000000    39.000000   \n",
       "75%    60109.000000             4.000000         73.000000    51.000000   \n",
       "max    77911.000000             4.000000         85.000000    64.000000   \n",
       "\n",
       "                 CTC  Role_Executive  Role_Manager   Tier_tier1   Tier_tier2  \\\n",
       "count    1589.000000     1589.000000   1589.000000  1589.000000  1589.000000   \n",
       "mean    75353.278798        0.793581      0.206419     0.363751     0.297042   \n",
       "std     12587.288237        0.404862      0.404862     0.481230     0.457099   \n",
       "min     53020.320000        0.000000      0.000000     0.000000     0.000000   \n",
       "25%     66902.350000        1.000000      0.000000     0.000000     0.000000   \n",
       "50%     73028.670000        1.000000      0.000000     0.000000     0.000000   \n",
       "75%     80588.670000        1.000000      0.000000     1.000000     1.000000   \n",
       "max    123416.990000        1.000000      1.000000     1.000000     1.000000   \n",
       "\n",
       "        Tier_tier3  Cities_metro  \n",
       "count  1589.000000   1589.000000  \n",
       "mean      0.339207      0.514160  \n",
       "std       0.473589      0.499957  \n",
       "min       0.000000      0.000000  \n",
       "25%       0.000000      0.000000  \n",
       "50%       0.000000      1.000000  \n",
       "75%       1.000000      1.000000  \n",
       "max       1.000000      1.000000  "
      ]
     },
     "execution_count": 29,
     "metadata": {},
     "output_type": "execute_result"
    }
   ],
   "source": [
    "# Detalied dataset\n",
    "df.describe()"
   ]
  },
  {
   "cell_type": "code",
   "execution_count": 30,
   "id": "fd36e8f6",
   "metadata": {},
   "outputs": [
    {
     "name": "stderr",
     "output_type": "stream",
     "text": [
      "C:\\Users\\Navin\\anaconda3\\lib\\site-packages\\seaborn\\_decorators.py:36: FutureWarning: Pass the following variable as a keyword arg: x. From version 0.12, the only valid positional argument will be `data`, and passing other arguments without an explicit keyword will result in an error or misinterpretation.\n",
      "  warnings.warn(\n",
      "C:\\Users\\Navin\\anaconda3\\lib\\site-packages\\seaborn\\_decorators.py:36: FutureWarning: Pass the following variable as a keyword arg: x. From version 0.12, the only valid positional argument will be `data`, and passing other arguments without an explicit keyword will result in an error or misinterpretation.\n",
      "  warnings.warn(\n",
      "C:\\Users\\Navin\\anaconda3\\lib\\site-packages\\seaborn\\_decorators.py:36: FutureWarning: Pass the following variable as a keyword arg: x. From version 0.12, the only valid positional argument will be `data`, and passing other arguments without an explicit keyword will result in an error or misinterpretation.\n",
      "  warnings.warn(\n",
      "C:\\Users\\Navin\\anaconda3\\lib\\site-packages\\seaborn\\_decorators.py:36: FutureWarning: Pass the following variable as a keyword arg: x. From version 0.12, the only valid positional argument will be `data`, and passing other arguments without an explicit keyword will result in an error or misinterpretation.\n",
      "  warnings.warn(\n",
      "C:\\Users\\Navin\\anaconda3\\lib\\site-packages\\seaborn\\_decorators.py:36: FutureWarning: Pass the following variable as a keyword arg: x. From version 0.12, the only valid positional argument will be `data`, and passing other arguments without an explicit keyword will result in an error or misinterpretation.\n",
      "  warnings.warn(\n",
      "C:\\Users\\Navin\\anaconda3\\lib\\site-packages\\seaborn\\_decorators.py:36: FutureWarning: Pass the following variable as a keyword arg: x. From version 0.12, the only valid positional argument will be `data`, and passing other arguments without an explicit keyword will result in an error or misinterpretation.\n",
      "  warnings.warn(\n",
      "C:\\Users\\Navin\\anaconda3\\lib\\site-packages\\seaborn\\_decorators.py:36: FutureWarning: Pass the following variable as a keyword arg: x. From version 0.12, the only valid positional argument will be `data`, and passing other arguments without an explicit keyword will result in an error or misinterpretation.\n",
      "  warnings.warn(\n",
      "C:\\Users\\Navin\\anaconda3\\lib\\site-packages\\seaborn\\_decorators.py:36: FutureWarning: Pass the following variable as a keyword arg: x. From version 0.12, the only valid positional argument will be `data`, and passing other arguments without an explicit keyword will result in an error or misinterpretation.\n",
      "  warnings.warn(\n",
      "C:\\Users\\Navin\\anaconda3\\lib\\site-packages\\seaborn\\_decorators.py:36: FutureWarning: Pass the following variable as a keyword arg: x. From version 0.12, the only valid positional argument will be `data`, and passing other arguments without an explicit keyword will result in an error or misinterpretation.\n",
      "  warnings.warn(\n",
      "C:\\Users\\Navin\\anaconda3\\lib\\site-packages\\seaborn\\_decorators.py:36: FutureWarning: Pass the following variable as a keyword arg: x. From version 0.12, the only valid positional argument will be `data`, and passing other arguments without an explicit keyword will result in an error or misinterpretation.\n",
      "  warnings.warn(\n",
      "C:\\Users\\Navin\\anaconda3\\lib\\site-packages\\seaborn\\_decorators.py:36: FutureWarning: Pass the following variable as a keyword arg: x. From version 0.12, the only valid positional argument will be `data`, and passing other arguments without an explicit keyword will result in an error or misinterpretation.\n",
      "  warnings.warn(\n"
     ]
    },
    {
     "data": {
      "image/png": "[encoded data removed]",
      "text/plain": [
       "<Figure size 1080x1440 with 11 Axes>"
      ]
     },
     "metadata": {
      "needs_background": "light"
     },
     "output_type": "display_data"
    }
   ],
   "source": [
    "# using boxplot to observe the distribution of the data and outlier present in the dataset.\n",
    "import matplotlib.pyplot as plt\n",
    "plt.figure(figsize=(15,20))\n",
    "for i, var in enumerate(df):\n",
    "    plt.subplot(4,5,i+1)\n",
    "    sns.boxplot(df[var])"
   ]
  },
  {
   "cell_type": "raw",
   "id": "d22cfc2d",
   "metadata": {},
   "source": []
  },
  {
   "cell_type": "markdown",
   "id": "ab3e5d3d",
   "metadata": {},
   "source": [
    "Conclusion:  \n",
    "As we can observe from the above graph, No outlier are present in the dataset"
   ]
  },
  {
   "cell_type": "raw",
   "id": "482582f4",
   "metadata": {},
   "source": []
  },
  {
   "cell_type": "code",
   "execution_count": 31,
   "id": "49905c92",
   "metadata": {},
   "outputs": [
    {
     "data": {
      "image/png": "[encoded data removed]",
      "text/plain": [
       "<Figure size 432x432 with 3 Axes>"
      ]
     },
     "metadata": {
      "needs_background": "light"
     },
     "output_type": "display_data"
    },
    {
     "data": {
      "image/png": "[encoded data removed]",
      "text/plain": [
       "<Figure size 432x432 with 3 Axes>"
      ]
     },
     "metadata": {
      "needs_background": "light"
     },
     "output_type": "display_data"
    },
    {
     "data": {
      "image/png": "[encoded data removed]",
      "text/plain": [
       "<Figure size 432x432 with 3 Axes>"
      ]
     },
     "metadata": {
      "needs_background": "light"
     },
     "output_type": "display_data"
    },
    {
     "data": {
      "image/png": "[encoded data removed]",
      "text/plain": [
       "<Figure size 432x432 with 3 Axes>"
      ]
     },
     "metadata": {
      "needs_background": "light"
     },
     "output_type": "display_data"
    },
    {
     "data": {
      "image/png": "[encoded data removed]",
      "text/plain": [
       "<Figure size 432x432 with 3 Axes>"
      ]
     },
     "metadata": {
      "needs_background": "light"
     },
     "output_type": "display_data"
    },
    {
     "data": {
      "image/png": "[encoded data removed]",
      "text/plain": [
       "<Figure size 432x432 with 3 Axes>"
      ]
     },
     "metadata": {
      "needs_background": "light"
     },
     "output_type": "display_data"
    },
    {
     "data": {
      "image/png": "[encoded data removed]",
      "text/plain": [
       "<Figure size 432x432 with 3 Axes>"
      ]
     },
     "metadata": {
      "needs_background": "light"
     },
     "output_type": "display_data"
    },
    {
     "data": {
      "image/png": "[encoded data removed]",
      "text/plain": [
       "<Figure size 432x432 with 3 Axes>"
      ]
     },
     "metadata": {
      "needs_background": "light"
     },
     "output_type": "display_data"
    },
    {
     "data": {
      "image/png": "[encoded data removed]",
      "text/plain": [
       "<Figure size 432x432 with 3 Axes>"
      ]
     },
     "metadata": {
      "needs_background": "light"
     },
     "output_type": "display_data"
    },
    {
     "data": {
      "image/png": "[encoded data removed]",
      "text/plain": [
       "<Figure size 432x432 with 3 Axes>"
      ]
     },
     "metadata": {
      "needs_background": "light"
     },
     "output_type": "display_data"
    }
   ],
   "source": [
    "# Creating scatterplot to observe the trend of the data\n",
    "for i, var in enumerate(df):\n",
    "    if var=='CTC':\n",
    "        continue\n",
    "    sns.jointplot(x=var,y='CTC',data=df,kind='reg',color='g')"
   ]
  },
  {
   "cell_type": "raw",
   "id": "ab764475",
   "metadata": {},
   "source": []
  },
  {
   "cell_type": "markdown",
   "id": "c4ac253b",
   "metadata": {},
   "source": [
    "Conclusion:  \n",
    "As we can observe that from above graph:-  \n",
    "- CTC and Previous CTC have postive relatioship, as Previous CTC increses, CTC also increses     \n",
    "- CTC and EXP(month) have postive relationship, as EXP(month) increases, CTC also Increases    \n",
    "- CTC and Role_manager have postive relationship, as Role_manager increases, CTC also Increases   \n",
    "- CTC and Role_Executive have negative relationship, as Role_Executive increase, CTC Decreses  \n",
    "- Other Variables are not affecting much"
   ]
  },
  {
   "cell_type": "raw",
   "id": "14e0bd8c",
   "metadata": {},
   "source": []
  },
  {
   "cell_type": "markdown",
   "id": "d5c1041a",
   "metadata": {},
   "source": [
    "### Correlation Matrix"
   ]
  },
  {
   "cell_type": "code",
   "execution_count": 32,
   "id": "eabe84a4",
   "metadata": {},
   "outputs": [
    {
     "data": {
      "image/png": "[encoded data removed]",
      "text/plain": [
       "<Figure size 1080x1080 with 2 Axes>"
      ]
     },
     "metadata": {
      "needs_background": "light"
     },
     "output_type": "display_data"
    }
   ],
   "source": [
    "#  correlation matrix of dataset\n",
    "corr_matrix = df.corr()\n",
    "fig, ax = plt.subplots(figsize=(15, 15))\n",
    "ax = sns.heatmap(corr_matrix,annot=True,linewidths=0.5)"
   ]
  },
  {
   "cell_type": "code",
   "execution_count": 33,
   "id": "edad2c0f",
   "metadata": {},
   "outputs": [
    {
     "data": {
      "text/plain": [
       "<AxesSubplot:title={'center':'Correlation with target'}>"
      ]
     },
     "execution_count": 33,
     "metadata": {},
     "output_type": "execute_result"
    },
    {
     "data": {
      "image/png": "[encoded data removed]",
      "text/plain": [
       "<Figure size 864x576 with 1 Axes>"
      ]
     },
     "metadata": {
      "needs_background": "light"
     },
     "output_type": "display_data"
    }
   ],
   "source": [
    "# Co-realtion with Depended Varibale\n",
    "df.drop('CTC', axis=1).corrwith(df.CTC).plot(kind='bar', figsize=(12, 8), grid=True,color='r',\n",
    "                                                   title=\"Correlation with target\")"
   ]
  },
  {
   "cell_type": "raw",
   "id": "1f1031dd",
   "metadata": {},
   "source": []
  },
  {
   "cell_type": "markdown",
   "id": "0b7d8f09",
   "metadata": {},
   "source": [
    "Conclusion:  \n",
    "From the above graph we can observe that:  \n",
    "Previous CTC, EXP(Month), Role_Manager are positively co-related with depended variables\n",
    "and Role_Executive are negatively co-related with depended variables.  \n",
    "Others variables are not affecting much."
   ]
  },
  {
   "cell_type": "raw",
   "id": "d4e6abf5",
   "metadata": {},
   "source": []
  },
  {
   "cell_type": "code",
   "execution_count": 34,
   "id": "ba389b31",
   "metadata": {},
   "outputs": [],
   "source": [
    "# spliting the dataset into features(independend variables) and target(dependent variables)\n",
    "X=df.drop('CTC',axis=1)\n",
    "y=df['CTC']"
   ]
  },
  {
   "cell_type": "code",
   "execution_count": 35,
   "id": "ca095129",
   "metadata": {},
   "outputs": [
    {
     "data": {
      "text/html": [
       "<div>\n",
       "<style scoped>\n",
       "    .dataframe tbody tr th:only-of-type {\n",
       "        vertical-align: middle;\n",
       "    }\n",
       "\n",
       "    .dataframe tbody tr th {\n",
       "        vertical-align: top;\n",
       "    }\n",
       "\n",
       "    .dataframe thead th {\n",
       "        text-align: right;\n",
       "    }\n",
       "</style>\n",
       "<table border=\"1\" class=\"dataframe\">\n",
       "  <thead>\n",
       "    <tr style=\"text-align: right;\">\n",
       "      <th></th>\n",
       "      <th>Previous CTC</th>\n",
       "      <th>Previous job change</th>\n",
       "      <th>Graduation Marks</th>\n",
       "      <th>EXP (Month)</th>\n",
       "      <th>Role_Executive</th>\n",
       "      <th>Role_Manager</th>\n",
       "      <th>Tier_tier1</th>\n",
       "      <th>Tier_tier2</th>\n",
       "      <th>Tier_tier3</th>\n",
       "      <th>Cities_metro</th>\n",
       "    </tr>\n",
       "  </thead>\n",
       "  <tbody>\n",
       "    <tr>\n",
       "      <th>0</th>\n",
       "      <td>55523.0</td>\n",
       "      <td>3</td>\n",
       "      <td>66</td>\n",
       "      <td>19</td>\n",
       "      <td>0</td>\n",
       "      <td>1</td>\n",
       "      <td>0</td>\n",
       "      <td>1</td>\n",
       "      <td>0</td>\n",
       "      <td>0</td>\n",
       "    </tr>\n",
       "    <tr>\n",
       "      <th>1</th>\n",
       "      <td>57081.0</td>\n",
       "      <td>1</td>\n",
       "      <td>84</td>\n",
       "      <td>18</td>\n",
       "      <td>1</td>\n",
       "      <td>0</td>\n",
       "      <td>0</td>\n",
       "      <td>1</td>\n",
       "      <td>0</td>\n",
       "      <td>0</td>\n",
       "    </tr>\n",
       "    <tr>\n",
       "      <th>2</th>\n",
       "      <td>60347.0</td>\n",
       "      <td>2</td>\n",
       "      <td>52</td>\n",
       "      <td>28</td>\n",
       "      <td>1</td>\n",
       "      <td>0</td>\n",
       "      <td>0</td>\n",
       "      <td>0</td>\n",
       "      <td>1</td>\n",
       "      <td>0</td>\n",
       "    </tr>\n",
       "    <tr>\n",
       "      <th>3</th>\n",
       "      <td>49010.0</td>\n",
       "      <td>2</td>\n",
       "      <td>81</td>\n",
       "      <td>33</td>\n",
       "      <td>1</td>\n",
       "      <td>0</td>\n",
       "      <td>0</td>\n",
       "      <td>0</td>\n",
       "      <td>1</td>\n",
       "      <td>0</td>\n",
       "    </tr>\n",
       "    <tr>\n",
       "      <th>4</th>\n",
       "      <td>57879.0</td>\n",
       "      <td>4</td>\n",
       "      <td>74</td>\n",
       "      <td>32</td>\n",
       "      <td>1</td>\n",
       "      <td>0</td>\n",
       "      <td>1</td>\n",
       "      <td>0</td>\n",
       "      <td>0</td>\n",
       "      <td>0</td>\n",
       "    </tr>\n",
       "  </tbody>\n",
       "</table>\n",
       "</div>"
      ],
      "text/plain": [
       "   Previous CTC  Previous job change  Graduation Marks  EXP (Month)  \\\n",
       "0       55523.0                    3                66           19   \n",
       "1       57081.0                    1                84           18   \n",
       "2       60347.0                    2                52           28   \n",
       "3       49010.0                    2                81           33   \n",
       "4       57879.0                    4                74           32   \n",
       "\n",
       "   Role_Executive  Role_Manager  Tier_tier1  Tier_tier2  Tier_tier3  \\\n",
       "0               0             1           0           1           0   \n",
       "1               1             0           0           1           0   \n",
       "2               1             0           0           0           1   \n",
       "3               1             0           0           0           1   \n",
       "4               1             0           1           0           0   \n",
       "\n",
       "   Cities_metro  \n",
       "0             0  \n",
       "1             0  \n",
       "2             0  \n",
       "3             0  \n",
       "4             0  "
      ]
     },
     "execution_count": 35,
     "metadata": {},
     "output_type": "execute_result"
    }
   ],
   "source": [
    "X.head()"
   ]
  },
  {
   "cell_type": "code",
   "execution_count": 36,
   "id": "5548256c",
   "metadata": {},
   "outputs": [
    {
     "data": {
      "text/plain": [
       "0    71406.58\n",
       "1    68005.87\n",
       "2    76764.02\n",
       "3    82092.39\n",
       "4    73878.10\n",
       "Name: CTC, dtype: float64"
      ]
     },
     "execution_count": 36,
     "metadata": {},
     "output_type": "execute_result"
    }
   ],
   "source": [
    "y.head()"
   ]
  },
  {
   "cell_type": "code",
   "execution_count": 37,
   "id": "c7fad6e3",
   "metadata": {},
   "outputs": [],
   "source": [
    "# Splitting the dataset into the Training set and Test set\n",
    "from sklearn.model_selection import train_test_split\n",
    "X_train, X_test, y_train, y_test = train_test_split(X, y, test_size = 0.2, random_state = 0)"
   ]
  },
  {
   "cell_type": "code",
   "execution_count": 38,
   "id": "cb0a3570",
   "metadata": {},
   "outputs": [
    {
     "name": "stdout",
     "output_type": "stream",
     "text": [
      "(1271, 10) (318, 10) (1271,) (318,)\n"
     ]
    }
   ],
   "source": [
    "print(X_train.shape,X_test.shape,y_train.shape,y_test.shape)"
   ]
  },
  {
   "cell_type": "code",
   "execution_count": 39,
   "id": "99b087d4",
   "metadata": {
    "scrolled": true
   },
   "outputs": [
    {
     "data": {
      "text/html": [
       "<div>\n",
       "<style scoped>\n",
       "    .dataframe tbody tr th:only-of-type {\n",
       "        vertical-align: middle;\n",
       "    }\n",
       "\n",
       "    .dataframe tbody tr th {\n",
       "        vertical-align: top;\n",
       "    }\n",
       "\n",
       "    .dataframe thead th {\n",
       "        text-align: right;\n",
       "    }\n",
       "</style>\n",
       "<table border=\"1\" class=\"dataframe\">\n",
       "  <thead>\n",
       "    <tr style=\"text-align: right;\">\n",
       "      <th></th>\n",
       "      <th>Previous CTC</th>\n",
       "      <th>Previous job change</th>\n",
       "      <th>Graduation Marks</th>\n",
       "      <th>EXP (Month)</th>\n",
       "      <th>Role_Executive</th>\n",
       "      <th>Role_Manager</th>\n",
       "      <th>Tier_tier1</th>\n",
       "      <th>Tier_tier2</th>\n",
       "      <th>Tier_tier3</th>\n",
       "      <th>Cities_metro</th>\n",
       "    </tr>\n",
       "  </thead>\n",
       "  <tbody>\n",
       "    <tr>\n",
       "      <th>1062</th>\n",
       "      <td>61410.0</td>\n",
       "      <td>4</td>\n",
       "      <td>83</td>\n",
       "      <td>59</td>\n",
       "      <td>0</td>\n",
       "      <td>1</td>\n",
       "      <td>1</td>\n",
       "      <td>0</td>\n",
       "      <td>0</td>\n",
       "      <td>0</td>\n",
       "    </tr>\n",
       "    <tr>\n",
       "      <th>215</th>\n",
       "      <td>59781.0</td>\n",
       "      <td>1</td>\n",
       "      <td>46</td>\n",
       "      <td>41</td>\n",
       "      <td>1</td>\n",
       "      <td>0</td>\n",
       "      <td>1</td>\n",
       "      <td>0</td>\n",
       "      <td>0</td>\n",
       "      <td>1</td>\n",
       "    </tr>\n",
       "    <tr>\n",
       "      <th>654</th>\n",
       "      <td>62521.0</td>\n",
       "      <td>1</td>\n",
       "      <td>70</td>\n",
       "      <td>59</td>\n",
       "      <td>1</td>\n",
       "      <td>0</td>\n",
       "      <td>1</td>\n",
       "      <td>0</td>\n",
       "      <td>0</td>\n",
       "      <td>0</td>\n",
       "    </tr>\n",
       "    <tr>\n",
       "      <th>55</th>\n",
       "      <td>66624.0</td>\n",
       "      <td>1</td>\n",
       "      <td>63</td>\n",
       "      <td>58</td>\n",
       "      <td>0</td>\n",
       "      <td>1</td>\n",
       "      <td>1</td>\n",
       "      <td>0</td>\n",
       "      <td>0</td>\n",
       "      <td>0</td>\n",
       "    </tr>\n",
       "    <tr>\n",
       "      <th>1187</th>\n",
       "      <td>54621.0</td>\n",
       "      <td>2</td>\n",
       "      <td>52</td>\n",
       "      <td>62</td>\n",
       "      <td>1</td>\n",
       "      <td>0</td>\n",
       "      <td>0</td>\n",
       "      <td>0</td>\n",
       "      <td>1</td>\n",
       "      <td>0</td>\n",
       "    </tr>\n",
       "  </tbody>\n",
       "</table>\n",
       "</div>"
      ],
      "text/plain": [
       "      Previous CTC  Previous job change  Graduation Marks  EXP (Month)  \\\n",
       "1062       61410.0                    4                83           59   \n",
       "215        59781.0                    1                46           41   \n",
       "654        62521.0                    1                70           59   \n",
       "55         66624.0                    1                63           58   \n",
       "1187       54621.0                    2                52           62   \n",
       "\n",
       "      Role_Executive  Role_Manager  Tier_tier1  Tier_tier2  Tier_tier3  \\\n",
       "1062               0             1           1           0           0   \n",
       "215                1             0           1           0           0   \n",
       "654                1             0           1           0           0   \n",
       "55                 0             1           1           0           0   \n",
       "1187               1             0           0           0           1   \n",
       "\n",
       "      Cities_metro  \n",
       "1062             0  \n",
       "215              1  \n",
       "654              0  \n",
       "55               0  \n",
       "1187             0  "
      ]
     },
     "execution_count": 39,
     "metadata": {},
     "output_type": "execute_result"
    }
   ],
   "source": [
    "X_train.head()"
   ]
  },
  {
   "cell_type": "raw",
   "id": "29241d7a",
   "metadata": {},
   "source": []
  },
  {
   "cell_type": "markdown",
   "id": "f27b023a",
   "metadata": {},
   "source": [
    "### Backward Elimination"
   ]
  },
  {
   "cell_type": "markdown",
   "id": "c328908e",
   "metadata": {},
   "source": [
    "Backward elimination is a feature selection technique while building a machine learning model. It is used\n",
    "to remove those features that do not have significant effect on dependent variable or prediction of output"
   ]
  },
  {
   "cell_type": "code",
   "execution_count": 40,
   "id": "ad3ddceb",
   "metadata": {},
   "outputs": [
    {
     "name": "stderr",
     "output_type": "stream",
     "text": [
      "C:\\Users\\Navin\\anaconda3\\lib\\site-packages\\statsmodels\\tsa\\base\\tsa_model.py:7: FutureWarning: pandas.Int64Index is deprecated and will be removed from pandas in a future version. Use pandas.Index with the appropriate dtype instead.\n",
      "  from pandas import (to_datetime, Int64Index, DatetimeIndex, Period,\n",
      "C:\\Users\\Navin\\anaconda3\\lib\\site-packages\\statsmodels\\tsa\\base\\tsa_model.py:7: FutureWarning: pandas.Float64Index is deprecated and will be removed from pandas in a future version. Use pandas.Index with the appropriate dtype instead.\n",
      "  from pandas import (to_datetime, Int64Index, DatetimeIndex, Period,\n"
     ]
    }
   ],
   "source": [
    "#Importing the library:\n",
    "import statsmodels.api as sn"
   ]
  },
  {
   "cell_type": "code",
   "execution_count": 41,
   "id": "100604d7",
   "metadata": {},
   "outputs": [
    {
     "name": "stderr",
     "output_type": "stream",
     "text": [
      "C:\\Users\\Navin\\anaconda3\\lib\\site-packages\\statsmodels\\tsa\\tsatools.py:142: FutureWarning: In a future version of pandas all arguments of concat except for the argument 'objs' will be keyword-only.\n",
      "  x = pd.concat(x[::order], 1)\n"
     ]
    }
   ],
   "source": [
    "# Applying backward elimination process now Firstly we will create a new feature x, \n",
    "# which will only contain a set of independent features that are significantly \n",
    "# affecting the dependent variable.\n",
    "x=sn.add_constant(X.iloc[:,[0,1,2,3,4,5,6,7,8,9]])"
   ]
  },
  {
   "cell_type": "code",
   "execution_count": 42,
   "id": "f29c173d",
   "metadata": {},
   "outputs": [],
   "source": [
    "#for fitting the model, we will create a lm object of new class OLS of \n",
    "#statsmodels library. Then we will fit it by using the fit() method.\n",
    "lm=sn.OLS(y,x).fit()"
   ]
  },
  {
   "cell_type": "code",
   "execution_count": 43,
   "id": "70b6795c",
   "metadata": {},
   "outputs": [
    {
     "data": {
      "text/html": [
       "<table class=\"simpletable\">\n",
       "<caption>OLS Regression Results</caption>\n",
       "<tr>\n",
       "  <th>Dep. Variable:</th>           <td>CTC</td>       <th>  R-squared:         </th> <td>   0.535</td> \n",
       "</tr>\n",
       "<tr>\n",
       "  <th>Model:</th>                   <td>OLS</td>       <th>  Adj. R-squared:    </th> <td>   0.532</td> \n",
       "</tr>\n",
       "<tr>\n",
       "  <th>Method:</th>             <td>Least Squares</td>  <th>  F-statistic:       </th> <td>   227.1</td> \n",
       "</tr>\n",
       "<tr>\n",
       "  <th>Date:</th>             <td>Sun, 20 Aug 2023</td> <th>  Prob (F-statistic):</th> <td>3.36e-256</td>\n",
       "</tr>\n",
       "<tr>\n",
       "  <th>Time:</th>                 <td>17:13:01</td>     <th>  Log-Likelihood:    </th> <td> -16647.</td> \n",
       "</tr>\n",
       "<tr>\n",
       "  <th>No. Observations:</th>      <td>  1589</td>      <th>  AIC:               </th> <td>3.331e+04</td>\n",
       "</tr>\n",
       "<tr>\n",
       "  <th>Df Residuals:</th>          <td>  1580</td>      <th>  BIC:               </th> <td>3.336e+04</td>\n",
       "</tr>\n",
       "<tr>\n",
       "  <th>Df Model:</th>              <td>     8</td>      <th>                     </th>     <td> </td>    \n",
       "</tr>\n",
       "<tr>\n",
       "  <th>Covariance Type:</th>      <td>nonrobust</td>    <th>                     </th>     <td> </td>    \n",
       "</tr>\n",
       "</table>\n",
       "<table class=\"simpletable\">\n",
       "<tr>\n",
       "           <td></td>              <th>coef</th>     <th>std err</th>      <th>t</th>      <th>P>|t|</th>  <th>[0.025</th>    <th>0.975]</th>  \n",
       "</tr>\n",
       "<tr>\n",
       "  <th>const</th>               <td> 2.573e+04</td> <td> 1172.349</td> <td>   21.949</td> <td> 0.000</td> <td> 2.34e+04</td> <td>  2.8e+04</td>\n",
       "</tr>\n",
       "<tr>\n",
       "  <th>Previous CTC</th>        <td>    0.4105</td> <td>    0.033</td> <td>   12.542</td> <td> 0.000</td> <td>    0.346</td> <td>    0.475</td>\n",
       "</tr>\n",
       "<tr>\n",
       "  <th>Previous job change</th> <td>  125.3208</td> <td>  192.846</td> <td>    0.650</td> <td> 0.516</td> <td> -252.941</td> <td>  503.582</td>\n",
       "</tr>\n",
       "<tr>\n",
       "  <th>Graduation Marks</th>    <td>    6.6007</td> <td>   14.501</td> <td>    0.455</td> <td> 0.649</td> <td>  -21.843</td> <td>   35.044</td>\n",
       "</tr>\n",
       "<tr>\n",
       "  <th>EXP (Month)</th>         <td>  261.6302</td> <td>   15.458</td> <td>   16.925</td> <td> 0.000</td> <td>  231.309</td> <td>  291.951</td>\n",
       "</tr>\n",
       "<tr>\n",
       "  <th>Role_Executive</th>      <td> 3121.2698</td> <td>  625.065</td> <td>    4.994</td> <td> 0.000</td> <td> 1895.226</td> <td> 4347.313</td>\n",
       "</tr>\n",
       "<tr>\n",
       "  <th>Role_Manager</th>        <td> 2.261e+04</td> <td>  662.859</td> <td>   34.111</td> <td> 0.000</td> <td> 2.13e+04</td> <td> 2.39e+04</td>\n",
       "</tr>\n",
       "<tr>\n",
       "  <th>Tier_tier1</th>          <td> 8859.9552</td> <td>  487.502</td> <td>   18.174</td> <td> 0.000</td> <td> 7903.737</td> <td> 9816.174</td>\n",
       "</tr>\n",
       "<tr>\n",
       "  <th>Tier_tier2</th>          <td> 8989.0489</td> <td>  499.819</td> <td>   17.985</td> <td> 0.000</td> <td> 8008.671</td> <td> 9969.426</td>\n",
       "</tr>\n",
       "<tr>\n",
       "  <th>Tier_tier3</th>          <td> 7883.2689</td> <td>  503.244</td> <td>   15.665</td> <td> 0.000</td> <td> 6896.173</td> <td> 8870.365</td>\n",
       "</tr>\n",
       "<tr>\n",
       "  <th>Cities_metro</th>        <td>  368.3233</td> <td>  433.465</td> <td>    0.850</td> <td> 0.396</td> <td> -481.903</td> <td> 1218.550</td>\n",
       "</tr>\n",
       "</table>\n",
       "<table class=\"simpletable\">\n",
       "<tr>\n",
       "  <th>Omnibus:</th>       <td>48.290</td> <th>  Durbin-Watson:     </th> <td>   2.051</td>\n",
       "</tr>\n",
       "<tr>\n",
       "  <th>Prob(Omnibus):</th> <td> 0.000</td> <th>  Jarque-Bera (JB):  </th> <td>  53.258</td>\n",
       "</tr>\n",
       "<tr>\n",
       "  <th>Skew:</th>          <td> 0.405</td> <th>  Prob(JB):          </th> <td>2.72e-12</td>\n",
       "</tr>\n",
       "<tr>\n",
       "  <th>Kurtosis:</th>      <td> 3.384</td> <th>  Cond. No.          </th> <td>3.91e+20</td>\n",
       "</tr>\n",
       "</table><br/><br/>Notes:<br/>[1] Standard Errors assume that the covariance matrix of the errors is correctly specified.<br/>[2] The smallest eigenvalue is 3.24e-29. This might indicate that there are<br/>strong multicollinearity problems or that the design matrix is singular."
      ],
      "text/plain": [
       "<class 'statsmodels.iolib.summary.Summary'>\n",
       "\"\"\"\n",
       "                            OLS Regression Results                            \n",
       "==============================================================================\n",
       "Dep. Variable:                    CTC   R-squared:                       0.535\n",
       "Model:                            OLS   Adj. R-squared:                  0.532\n",
       "Method:                 Least Squares   F-statistic:                     227.1\n",
       "Date:                Sun, 20 Aug 2023   Prob (F-statistic):          3.36e-256\n",
       "Time:                        17:13:01   Log-Likelihood:                -16647.\n",
       "No. Observations:                1589   AIC:                         3.331e+04\n",
       "Df Residuals:                    1580   BIC:                         3.336e+04\n",
       "Df Model:                           8                                         \n",
       "Covariance Type:            nonrobust                                         \n",
       "=======================================================================================\n",
       "                          coef    std err          t      P>|t|      [0.025      0.975]\n",
       "---------------------------------------------------------------------------------------\n",
       "const                2.573e+04   1172.349     21.949      0.000    2.34e+04     2.8e+04\n",
       "Previous CTC            0.4105      0.033     12.542      0.000       0.346       0.475\n",
       "Previous job change   125.3208    192.846      0.650      0.516    -252.941     503.582\n",
       "Graduation Marks        6.6007     14.501      0.455      0.649     -21.843      35.044\n",
       "EXP (Month)           261.6302     15.458     16.925      0.000     231.309     291.951\n",
       "Role_Executive       3121.2698    625.065      4.994      0.000    1895.226    4347.313\n",
       "Role_Manager         2.261e+04    662.859     34.111      0.000    2.13e+04    2.39e+04\n",
       "Tier_tier1           8859.9552    487.502     18.174      0.000    7903.737    9816.174\n",
       "Tier_tier2           8989.0489    499.819     17.985      0.000    8008.671    9969.426\n",
       "Tier_tier3           7883.2689    503.244     15.665      0.000    6896.173    8870.365\n",
       "Cities_metro          368.3233    433.465      0.850      0.396    -481.903    1218.550\n",
       "==============================================================================\n",
       "Omnibus:                       48.290   Durbin-Watson:                   2.051\n",
       "Prob(Omnibus):                  0.000   Jarque-Bera (JB):               53.258\n",
       "Skew:                           0.405   Prob(JB):                     2.72e-12\n",
       "Kurtosis:                       3.384   Cond. No.                     3.91e+20\n",
       "==============================================================================\n",
       "\n",
       "Notes:\n",
       "[1] Standard Errors assume that the covariance matrix of the errors is correctly specified.\n",
       "[2] The smallest eigenvalue is 3.24e-29. This might indicate that there are\n",
       "strong multicollinearity problems or that the design matrix is singular.\n",
       "\"\"\""
      ]
     },
     "execution_count": 43,
     "metadata": {},
     "output_type": "execute_result"
    }
   ],
   "source": [
    "#We will use summary() method to get the summary table of all the variables.\n",
    "lm.summary()"
   ]
  },
  {
   "cell_type": "raw",
   "id": "62bf5714",
   "metadata": {},
   "source": []
  },
  {
   "cell_type": "markdown",
   "id": "eb31eb8f",
   "metadata": {},
   "source": [
    "Conclusion:  \n",
    "In the above summary table, we can clearly see the p-values of all the variables.   \n",
    "Now since 'Graduation Marks' has highest p-value greater than 0.05, hence, will remove the 'Graduation Marks' variable from the table and will refit the model."
   ]
  },
  {
   "cell_type": "raw",
   "id": "b99874f8",
   "metadata": {},
   "source": []
  },
  {
   "cell_type": "code",
   "execution_count": 44,
   "id": "5e13ce6e",
   "metadata": {},
   "outputs": [
    {
     "name": "stderr",
     "output_type": "stream",
     "text": [
      "C:\\Users\\Navin\\anaconda3\\lib\\site-packages\\statsmodels\\tsa\\tsatools.py:142: FutureWarning: In a future version of pandas all arguments of concat except for the argument 'objs' will be keyword-only.\n",
      "  x = pd.concat(x[::order], 1)\n"
     ]
    },
    {
     "data": {
      "text/html": [
       "<table class=\"simpletable\">\n",
       "<caption>OLS Regression Results</caption>\n",
       "<tr>\n",
       "  <th>Dep. Variable:</th>           <td>CTC</td>       <th>  R-squared:         </th> <td>   0.535</td> \n",
       "</tr>\n",
       "<tr>\n",
       "  <th>Model:</th>                   <td>OLS</td>       <th>  Adj. R-squared:    </th> <td>   0.533</td> \n",
       "</tr>\n",
       "<tr>\n",
       "  <th>Method:</th>             <td>Least Squares</td>  <th>  F-statistic:       </th> <td>   259.6</td> \n",
       "</tr>\n",
       "<tr>\n",
       "  <th>Date:</th>             <td>Sun, 20 Aug 2023</td> <th>  Prob (F-statistic):</th> <td>2.23e-257</td>\n",
       "</tr>\n",
       "<tr>\n",
       "  <th>Time:</th>                 <td>17:13:01</td>     <th>  Log-Likelihood:    </th> <td> -16647.</td> \n",
       "</tr>\n",
       "<tr>\n",
       "  <th>No. Observations:</th>      <td>  1589</td>      <th>  AIC:               </th> <td>3.331e+04</td>\n",
       "</tr>\n",
       "<tr>\n",
       "  <th>Df Residuals:</th>          <td>  1581</td>      <th>  BIC:               </th> <td>3.335e+04</td>\n",
       "</tr>\n",
       "<tr>\n",
       "  <th>Df Model:</th>              <td>     7</td>      <th>                     </th>     <td> </td>    \n",
       "</tr>\n",
       "<tr>\n",
       "  <th>Covariance Type:</th>      <td>nonrobust</td>    <th>                     </th>     <td> </td>    \n",
       "</tr>\n",
       "</table>\n",
       "<table class=\"simpletable\">\n",
       "<tr>\n",
       "           <td></td>              <th>coef</th>     <th>std err</th>      <th>t</th>      <th>P>|t|</th>  <th>[0.025</th>    <th>0.975]</th>  \n",
       "</tr>\n",
       "<tr>\n",
       "  <th>const</th>               <td> 2.597e+04</td> <td> 1052.535</td> <td>   24.671</td> <td> 0.000</td> <td> 2.39e+04</td> <td>  2.8e+04</td>\n",
       "</tr>\n",
       "<tr>\n",
       "  <th>Previous CTC</th>        <td>    0.4101</td> <td>    0.033</td> <td>   12.538</td> <td> 0.000</td> <td>    0.346</td> <td>    0.474</td>\n",
       "</tr>\n",
       "<tr>\n",
       "  <th>Previous job change</th> <td>  127.2909</td> <td>  192.749</td> <td>    0.660</td> <td> 0.509</td> <td> -250.781</td> <td>  505.362</td>\n",
       "</tr>\n",
       "<tr>\n",
       "  <th>EXP (Month)</th>         <td>  261.2477</td> <td>   15.432</td> <td>   16.929</td> <td> 0.000</td> <td>  230.979</td> <td>  291.516</td>\n",
       "</tr>\n",
       "<tr>\n",
       "  <th>Role_Executive</th>      <td> 3236.6863</td> <td>  571.183</td> <td>    5.667</td> <td> 0.000</td> <td> 2116.331</td> <td> 4357.042</td>\n",
       "</tr>\n",
       "<tr>\n",
       "  <th>Role_Manager</th>        <td> 2.273e+04</td> <td>  608.640</td> <td>   37.346</td> <td> 0.000</td> <td> 2.15e+04</td> <td> 2.39e+04</td>\n",
       "</tr>\n",
       "<tr>\n",
       "  <th>Tier_tier1</th>          <td> 8938.7849</td> <td>  455.590</td> <td>   19.620</td> <td> 0.000</td> <td> 8045.161</td> <td> 9832.408</td>\n",
       "</tr>\n",
       "<tr>\n",
       "  <th>Tier_tier2</th>          <td> 9064.5431</td> <td>  471.381</td> <td>   19.230</td> <td> 0.000</td> <td> 8139.946</td> <td> 9989.140</td>\n",
       "</tr>\n",
       "<tr>\n",
       "  <th>Tier_tier3</th>          <td> 7963.7146</td> <td>  471.072</td> <td>   16.906</td> <td> 0.000</td> <td> 7039.722</td> <td> 8887.707</td>\n",
       "</tr>\n",
       "<tr>\n",
       "  <th>Cities_metro</th>        <td>  364.4559</td> <td>  433.273</td> <td>    0.841</td> <td> 0.400</td> <td> -485.394</td> <td> 1214.305</td>\n",
       "</tr>\n",
       "</table>\n",
       "<table class=\"simpletable\">\n",
       "<tr>\n",
       "  <th>Omnibus:</th>       <td>48.439</td> <th>  Durbin-Watson:     </th> <td>   2.051</td>\n",
       "</tr>\n",
       "<tr>\n",
       "  <th>Prob(Omnibus):</th> <td> 0.000</td> <th>  Jarque-Bera (JB):  </th> <td>  53.486</td>\n",
       "</tr>\n",
       "<tr>\n",
       "  <th>Skew:</th>          <td> 0.405</td> <th>  Prob(JB):          </th> <td>2.43e-12</td>\n",
       "</tr>\n",
       "<tr>\n",
       "  <th>Kurtosis:</th>      <td> 3.388</td> <th>  Cond. No.          </th> <td>3.62e+20</td>\n",
       "</tr>\n",
       "</table><br/><br/>Notes:<br/>[1] Standard Errors assume that the covariance matrix of the errors is correctly specified.<br/>[2] The smallest eigenvalue is 3.79e-29. This might indicate that there are<br/>strong multicollinearity problems or that the design matrix is singular."
      ],
      "text/plain": [
       "<class 'statsmodels.iolib.summary.Summary'>\n",
       "\"\"\"\n",
       "                            OLS Regression Results                            \n",
       "==============================================================================\n",
       "Dep. Variable:                    CTC   R-squared:                       0.535\n",
       "Model:                            OLS   Adj. R-squared:                  0.533\n",
       "Method:                 Least Squares   F-statistic:                     259.6\n",
       "Date:                Sun, 20 Aug 2023   Prob (F-statistic):          2.23e-257\n",
       "Time:                        17:13:01   Log-Likelihood:                -16647.\n",
       "No. Observations:                1589   AIC:                         3.331e+04\n",
       "Df Residuals:                    1581   BIC:                         3.335e+04\n",
       "Df Model:                           7                                         \n",
       "Covariance Type:            nonrobust                                         \n",
       "=======================================================================================\n",
       "                          coef    std err          t      P>|t|      [0.025      0.975]\n",
       "---------------------------------------------------------------------------------------\n",
       "const                2.597e+04   1052.535     24.671      0.000    2.39e+04     2.8e+04\n",
       "Previous CTC            0.4101      0.033     12.538      0.000       0.346       0.474\n",
       "Previous job change   127.2909    192.749      0.660      0.509    -250.781     505.362\n",
       "EXP (Month)           261.2477     15.432     16.929      0.000     230.979     291.516\n",
       "Role_Executive       3236.6863    571.183      5.667      0.000    2116.331    4357.042\n",
       "Role_Manager         2.273e+04    608.640     37.346      0.000    2.15e+04    2.39e+04\n",
       "Tier_tier1           8938.7849    455.590     19.620      0.000    8045.161    9832.408\n",
       "Tier_tier2           9064.5431    471.381     19.230      0.000    8139.946    9989.140\n",
       "Tier_tier3           7963.7146    471.072     16.906      0.000    7039.722    8887.707\n",
       "Cities_metro          364.4559    433.273      0.841      0.400    -485.394    1214.305\n",
       "==============================================================================\n",
       "Omnibus:                       48.439   Durbin-Watson:                   2.051\n",
       "Prob(Omnibus):                  0.000   Jarque-Bera (JB):               53.486\n",
       "Skew:                           0.405   Prob(JB):                     2.43e-12\n",
       "Kurtosis:                       3.388   Cond. No.                     3.62e+20\n",
       "==============================================================================\n",
       "\n",
       "Notes:\n",
       "[1] Standard Errors assume that the covariance matrix of the errors is correctly specified.\n",
       "[2] The smallest eigenvalue is 3.79e-29. This might indicate that there are\n",
       "strong multicollinearity problems or that the design matrix is singular.\n",
       "\"\"\""
      ]
     },
     "execution_count": 44,
     "metadata": {},
     "output_type": "execute_result"
    }
   ],
   "source": [
    "# to get the summary table of all the variables\n",
    "x=sn.add_constant(X.iloc[:,[0,1,3,4,5,6,7,8,9]])\n",
    "lm=sn.OLS(y,x).fit()\n",
    "lm.summary()"
   ]
  },
  {
   "cell_type": "raw",
   "id": "0a96e231",
   "metadata": {},
   "source": []
  },
  {
   "cell_type": "markdown",
   "id": "035f002b",
   "metadata": {},
   "source": [
    "Conclusion:  \n",
    "In the above summary table, we can clearly see the p-values of all the variables.  \n",
    "Now since 'Previous job change' has highest p-value greater than 0.05, hence, will remove the 'Previous job change' variable from the table and will refit the model."
   ]
  },
  {
   "cell_type": "raw",
   "id": "08af8a40",
   "metadata": {},
   "source": []
  },
  {
   "cell_type": "code",
   "execution_count": 45,
   "id": "7f772e03",
   "metadata": {},
   "outputs": [
    {
     "name": "stderr",
     "output_type": "stream",
     "text": [
      "C:\\Users\\Navin\\anaconda3\\lib\\site-packages\\statsmodels\\tsa\\tsatools.py:142: FutureWarning: In a future version of pandas all arguments of concat except for the argument 'objs' will be keyword-only.\n",
      "  x = pd.concat(x[::order], 1)\n"
     ]
    },
    {
     "data": {
      "text/html": [
       "<table class=\"simpletable\">\n",
       "<caption>OLS Regression Results</caption>\n",
       "<tr>\n",
       "  <th>Dep. Variable:</th>           <td>CTC</td>       <th>  R-squared:         </th> <td>   0.535</td> \n",
       "</tr>\n",
       "<tr>\n",
       "  <th>Model:</th>                   <td>OLS</td>       <th>  Adj. R-squared:    </th> <td>   0.533</td> \n",
       "</tr>\n",
       "<tr>\n",
       "  <th>Method:</th>             <td>Least Squares</td>  <th>  F-statistic:       </th> <td>   302.9</td> \n",
       "</tr>\n",
       "<tr>\n",
       "  <th>Date:</th>             <td>Sun, 20 Aug 2023</td> <th>  Prob (F-statistic):</th> <td>1.53e-258</td>\n",
       "</tr>\n",
       "<tr>\n",
       "  <th>Time:</th>                 <td>17:13:01</td>     <th>  Log-Likelihood:    </th> <td> -16647.</td> \n",
       "</tr>\n",
       "<tr>\n",
       "  <th>No. Observations:</th>      <td>  1589</td>      <th>  AIC:               </th> <td>3.331e+04</td>\n",
       "</tr>\n",
       "<tr>\n",
       "  <th>Df Residuals:</th>          <td>  1582</td>      <th>  BIC:               </th> <td>3.335e+04</td>\n",
       "</tr>\n",
       "<tr>\n",
       "  <th>Df Model:</th>              <td>     6</td>      <th>                     </th>     <td> </td>    \n",
       "</tr>\n",
       "<tr>\n",
       "  <th>Covariance Type:</th>      <td>nonrobust</td>    <th>                     </th>     <td> </td>    \n",
       "</tr>\n",
       "</table>\n",
       "<table class=\"simpletable\">\n",
       "<tr>\n",
       "         <td></td>           <th>coef</th>     <th>std err</th>      <th>t</th>      <th>P>|t|</th>  <th>[0.025</th>    <th>0.975]</th>  \n",
       "</tr>\n",
       "<tr>\n",
       "  <th>const</th>          <td> 2.613e+04</td> <td> 1023.389</td> <td>   25.532</td> <td> 0.000</td> <td> 2.41e+04</td> <td> 2.81e+04</td>\n",
       "</tr>\n",
       "<tr>\n",
       "  <th>Previous CTC</th>   <td>    0.4103</td> <td>    0.033</td> <td>   12.544</td> <td> 0.000</td> <td>    0.346</td> <td>    0.474</td>\n",
       "</tr>\n",
       "<tr>\n",
       "  <th>EXP (Month)</th>    <td>  261.4950</td> <td>   15.424</td> <td>   16.953</td> <td> 0.000</td> <td>  231.241</td> <td>  291.749</td>\n",
       "</tr>\n",
       "<tr>\n",
       "  <th>Role_Executive</th> <td> 3320.2880</td> <td>  556.878</td> <td>    5.962</td> <td> 0.000</td> <td> 2227.991</td> <td> 4412.585</td>\n",
       "</tr>\n",
       "<tr>\n",
       "  <th>Role_Manager</th>   <td> 2.281e+04</td> <td>  596.862</td> <td>   38.214</td> <td> 0.000</td> <td> 2.16e+04</td> <td>  2.4e+04</td>\n",
       "</tr>\n",
       "<tr>\n",
       "  <th>Tier_tier1</th>     <td> 9001.7012</td> <td>  445.438</td> <td>   20.209</td> <td> 0.000</td> <td> 8127.991</td> <td> 9875.412</td>\n",
       "</tr>\n",
       "<tr>\n",
       "  <th>Tier_tier2</th>     <td> 9119.4627</td> <td>  463.904</td> <td>   19.658</td> <td> 0.000</td> <td> 8209.531</td> <td>    1e+04</td>\n",
       "</tr>\n",
       "<tr>\n",
       "  <th>Tier_tier3</th>     <td> 8007.8203</td> <td>  466.231</td> <td>   17.176</td> <td> 0.000</td> <td> 7093.325</td> <td> 8922.316</td>\n",
       "</tr>\n",
       "<tr>\n",
       "  <th>Cities_metro</th>   <td>  378.9267</td> <td>  432.641</td> <td>    0.876</td> <td> 0.381</td> <td> -469.684</td> <td> 1227.537</td>\n",
       "</tr>\n",
       "</table>\n",
       "<table class=\"simpletable\">\n",
       "<tr>\n",
       "  <th>Omnibus:</th>       <td>49.123</td> <th>  Durbin-Watson:     </th> <td>   2.053</td>\n",
       "</tr>\n",
       "<tr>\n",
       "  <th>Prob(Omnibus):</th> <td> 0.000</td> <th>  Jarque-Bera (JB):  </th> <td>  54.373</td>\n",
       "</tr>\n",
       "<tr>\n",
       "  <th>Skew:</th>          <td> 0.408</td> <th>  Prob(JB):          </th> <td>1.56e-12</td>\n",
       "</tr>\n",
       "<tr>\n",
       "  <th>Kurtosis:</th>      <td> 3.396</td> <th>  Cond. No.          </th> <td>6.20e+20</td>\n",
       "</tr>\n",
       "</table><br/><br/>Notes:<br/>[1] Standard Errors assume that the covariance matrix of the errors is correctly specified.<br/>[2] The smallest eigenvalue is 1.29e-29. This might indicate that there are<br/>strong multicollinearity problems or that the design matrix is singular."
      ],
      "text/plain": [
       "<class 'statsmodels.iolib.summary.Summary'>\n",
       "\"\"\"\n",
       "                            OLS Regression Results                            \n",
       "==============================================================================\n",
       "Dep. Variable:                    CTC   R-squared:                       0.535\n",
       "Model:                            OLS   Adj. R-squared:                  0.533\n",
       "Method:                 Least Squares   F-statistic:                     302.9\n",
       "Date:                Sun, 20 Aug 2023   Prob (F-statistic):          1.53e-258\n",
       "Time:                        17:13:01   Log-Likelihood:                -16647.\n",
       "No. Observations:                1589   AIC:                         3.331e+04\n",
       "Df Residuals:                    1582   BIC:                         3.335e+04\n",
       "Df Model:                           6                                         \n",
       "Covariance Type:            nonrobust                                         \n",
       "==================================================================================\n",
       "                     coef    std err          t      P>|t|      [0.025      0.975]\n",
       "----------------------------------------------------------------------------------\n",
       "const           2.613e+04   1023.389     25.532      0.000    2.41e+04    2.81e+04\n",
       "Previous CTC       0.4103      0.033     12.544      0.000       0.346       0.474\n",
       "EXP (Month)      261.4950     15.424     16.953      0.000     231.241     291.749\n",
       "Role_Executive  3320.2880    556.878      5.962      0.000    2227.991    4412.585\n",
       "Role_Manager    2.281e+04    596.862     38.214      0.000    2.16e+04     2.4e+04\n",
       "Tier_tier1      9001.7012    445.438     20.209      0.000    8127.991    9875.412\n",
       "Tier_tier2      9119.4627    463.904     19.658      0.000    8209.531       1e+04\n",
       "Tier_tier3      8007.8203    466.231     17.176      0.000    7093.325    8922.316\n",
       "Cities_metro     378.9267    432.641      0.876      0.381    -469.684    1227.537\n",
       "==============================================================================\n",
       "Omnibus:                       49.123   Durbin-Watson:                   2.053\n",
       "Prob(Omnibus):                  0.000   Jarque-Bera (JB):               54.373\n",
       "Skew:                           0.408   Prob(JB):                     1.56e-12\n",
       "Kurtosis:                       3.396   Cond. No.                     6.20e+20\n",
       "==============================================================================\n",
       "\n",
       "Notes:\n",
       "[1] Standard Errors assume that the covariance matrix of the errors is correctly specified.\n",
       "[2] The smallest eigenvalue is 1.29e-29. This might indicate that there are\n",
       "strong multicollinearity problems or that the design matrix is singular.\n",
       "\"\"\""
      ]
     },
     "execution_count": 45,
     "metadata": {},
     "output_type": "execute_result"
    }
   ],
   "source": [
    "# to get the summary table of all the variables\n",
    "x_opt=x=sn.add_constant(X.iloc[:,[0,3,4,5,6,7,8,9]])\n",
    "lm=sn.OLS(y,x).fit()\n",
    "lm.summary()"
   ]
  },
  {
   "cell_type": "raw",
   "id": "a1d6bb29",
   "metadata": {},
   "source": []
  },
  {
   "cell_type": "markdown",
   "id": "601e3e3c",
   "metadata": {},
   "source": [
    "Conclusion:  \n",
    "In the above summary table, we can clearly see the p-values of all the variables.  \n",
    "Now since 'Cities_metro' has highest p-value greater than 0.05, hence, will remove the 'Cities_metro' variable from the table and will refit the model."
   ]
  },
  {
   "cell_type": "raw",
   "id": "fabd3516",
   "metadata": {},
   "source": []
  },
  {
   "cell_type": "code",
   "execution_count": 46,
   "id": "7f4d7da5",
   "metadata": {},
   "outputs": [
    {
     "name": "stderr",
     "output_type": "stream",
     "text": [
      "C:\\Users\\Navin\\anaconda3\\lib\\site-packages\\statsmodels\\tsa\\tsatools.py:142: FutureWarning: In a future version of pandas all arguments of concat except for the argument 'objs' will be keyword-only.\n",
      "  x = pd.concat(x[::order], 1)\n"
     ]
    },
    {
     "data": {
      "text/html": [
       "<table class=\"simpletable\">\n",
       "<caption>OLS Regression Results</caption>\n",
       "<tr>\n",
       "  <th>Dep. Variable:</th>           <td>CTC</td>       <th>  R-squared:         </th> <td>   0.534</td> \n",
       "</tr>\n",
       "<tr>\n",
       "  <th>Model:</th>                   <td>OLS</td>       <th>  Adj. R-squared:    </th> <td>   0.533</td> \n",
       "</tr>\n",
       "<tr>\n",
       "  <th>Method:</th>             <td>Least Squares</td>  <th>  F-statistic:       </th> <td>   363.4</td> \n",
       "</tr>\n",
       "<tr>\n",
       "  <th>Date:</th>             <td>Sun, 20 Aug 2023</td> <th>  Prob (F-statistic):</th> <td>1.12e-259</td>\n",
       "</tr>\n",
       "<tr>\n",
       "  <th>Time:</th>                 <td>17:13:01</td>     <th>  Log-Likelihood:    </th> <td> -16648.</td> \n",
       "</tr>\n",
       "<tr>\n",
       "  <th>No. Observations:</th>      <td>  1589</td>      <th>  AIC:               </th> <td>3.331e+04</td>\n",
       "</tr>\n",
       "<tr>\n",
       "  <th>Df Residuals:</th>          <td>  1583</td>      <th>  BIC:               </th> <td>3.334e+04</td>\n",
       "</tr>\n",
       "<tr>\n",
       "  <th>Df Model:</th>              <td>     5</td>      <th>                     </th>     <td> </td>    \n",
       "</tr>\n",
       "<tr>\n",
       "  <th>Covariance Type:</th>      <td>nonrobust</td>    <th>                     </th>     <td> </td>    \n",
       "</tr>\n",
       "</table>\n",
       "<table class=\"simpletable\">\n",
       "<tr>\n",
       "         <td></td>           <th>coef</th>     <th>std err</th>      <th>t</th>      <th>P>|t|</th>  <th>[0.025</th>    <th>0.975]</th>  \n",
       "</tr>\n",
       "<tr>\n",
       "  <th>const</th>          <td> 2.623e+04</td> <td> 1016.661</td> <td>   25.801</td> <td> 0.000</td> <td> 2.42e+04</td> <td> 2.82e+04</td>\n",
       "</tr>\n",
       "<tr>\n",
       "  <th>Previous CTC</th>   <td>    0.4105</td> <td>    0.033</td> <td>   12.553</td> <td> 0.000</td> <td>    0.346</td> <td>    0.475</td>\n",
       "</tr>\n",
       "<tr>\n",
       "  <th>EXP (Month)</th>    <td>  261.1523</td> <td>   15.418</td> <td>   16.938</td> <td> 0.000</td> <td>  230.910</td> <td>  291.395</td>\n",
       "</tr>\n",
       "<tr>\n",
       "  <th>Role_Executive</th> <td> 3382.9100</td> <td>  552.229</td> <td>    6.126</td> <td> 0.000</td> <td> 2299.734</td> <td> 4466.086</td>\n",
       "</tr>\n",
       "<tr>\n",
       "  <th>Role_Manager</th>   <td> 2.285e+04</td> <td>  595.119</td> <td>   38.393</td> <td> 0.000</td> <td> 2.17e+04</td> <td>  2.4e+04</td>\n",
       "</tr>\n",
       "<tr>\n",
       "  <th>Tier_tier1</th>     <td> 9036.2359</td> <td>  443.656</td> <td>   20.368</td> <td> 0.000</td> <td> 8166.020</td> <td> 9906.452</td>\n",
       "</tr>\n",
       "<tr>\n",
       "  <th>Tier_tier2</th>     <td> 9159.7507</td> <td>  461.584</td> <td>   19.844</td> <td> 0.000</td> <td> 8254.370</td> <td> 1.01e+04</td>\n",
       "</tr>\n",
       "<tr>\n",
       "  <th>Tier_tier3</th>     <td> 8035.0344</td> <td>  465.160</td> <td>   17.274</td> <td> 0.000</td> <td> 7122.640</td> <td> 8947.429</td>\n",
       "</tr>\n",
       "</table>\n",
       "<table class=\"simpletable\">\n",
       "<tr>\n",
       "  <th>Omnibus:</th>       <td>49.590</td> <th>  Durbin-Watson:     </th> <td>   2.055</td>\n",
       "</tr>\n",
       "<tr>\n",
       "  <th>Prob(Omnibus):</th> <td> 0.000</td> <th>  Jarque-Bera (JB):  </th> <td>  55.017</td>\n",
       "</tr>\n",
       "<tr>\n",
       "  <th>Skew:</th>          <td> 0.409</td> <th>  Prob(JB):          </th> <td>1.13e-12</td>\n",
       "</tr>\n",
       "<tr>\n",
       "  <th>Kurtosis:</th>      <td> 3.403</td> <th>  Cond. No.          </th> <td>3.53e+20</td>\n",
       "</tr>\n",
       "</table><br/><br/>Notes:<br/>[1] Standard Errors assume that the covariance matrix of the errors is correctly specified.<br/>[2] The smallest eigenvalue is 3.99e-29. This might indicate that there are<br/>strong multicollinearity problems or that the design matrix is singular."
      ],
      "text/plain": [
       "<class 'statsmodels.iolib.summary.Summary'>\n",
       "\"\"\"\n",
       "                            OLS Regression Results                            \n",
       "==============================================================================\n",
       "Dep. Variable:                    CTC   R-squared:                       0.534\n",
       "Model:                            OLS   Adj. R-squared:                  0.533\n",
       "Method:                 Least Squares   F-statistic:                     363.4\n",
       "Date:                Sun, 20 Aug 2023   Prob (F-statistic):          1.12e-259\n",
       "Time:                        17:13:01   Log-Likelihood:                -16648.\n",
       "No. Observations:                1589   AIC:                         3.331e+04\n",
       "Df Residuals:                    1583   BIC:                         3.334e+04\n",
       "Df Model:                           5                                         \n",
       "Covariance Type:            nonrobust                                         \n",
       "==================================================================================\n",
       "                     coef    std err          t      P>|t|      [0.025      0.975]\n",
       "----------------------------------------------------------------------------------\n",
       "const           2.623e+04   1016.661     25.801      0.000    2.42e+04    2.82e+04\n",
       "Previous CTC       0.4105      0.033     12.553      0.000       0.346       0.475\n",
       "EXP (Month)      261.1523     15.418     16.938      0.000     230.910     291.395\n",
       "Role_Executive  3382.9100    552.229      6.126      0.000    2299.734    4466.086\n",
       "Role_Manager    2.285e+04    595.119     38.393      0.000    2.17e+04     2.4e+04\n",
       "Tier_tier1      9036.2359    443.656     20.368      0.000    8166.020    9906.452\n",
       "Tier_tier2      9159.7507    461.584     19.844      0.000    8254.370    1.01e+04\n",
       "Tier_tier3      8035.0344    465.160     17.274      0.000    7122.640    8947.429\n",
       "==============================================================================\n",
       "Omnibus:                       49.590   Durbin-Watson:                   2.055\n",
       "Prob(Omnibus):                  0.000   Jarque-Bera (JB):               55.017\n",
       "Skew:                           0.409   Prob(JB):                     1.13e-12\n",
       "Kurtosis:                       3.403   Cond. No.                     3.53e+20\n",
       "==============================================================================\n",
       "\n",
       "Notes:\n",
       "[1] Standard Errors assume that the covariance matrix of the errors is correctly specified.\n",
       "[2] The smallest eigenvalue is 3.99e-29. This might indicate that there are\n",
       "strong multicollinearity problems or that the design matrix is singular.\n",
       "\"\"\""
      ]
     },
     "execution_count": 46,
     "metadata": {},
     "output_type": "execute_result"
    }
   ],
   "source": [
    "# to get the summary table of all the variables\n",
    "x_opt=x=sn.add_constant(X.iloc[:,[0,3,4,5,6,7,8]])\n",
    "lm=sn.OLS(y,x).fit()\n",
    "lm.summary()"
   ]
  },
  {
   "cell_type": "raw",
   "id": "69610b90",
   "metadata": {},
   "source": []
  },
  {
   "cell_type": "markdown",
   "id": "730574e0",
   "metadata": {},
   "source": [
    "Conclusion:   \n",
    "By observing the above data we can say that all are significant variable for the model. these are the varibale which has highest impact on the Target variable   \n",
    "For example as we increase previous ctc, exp etc. ctc will increase but as we increse Role_executive ctc will decrease"
   ]
  },
  {
   "cell_type": "raw",
   "id": "6a1f0276",
   "metadata": {},
   "source": []
  },
  {
   "cell_type": "markdown",
   "id": "f113ab5f",
   "metadata": {},
   "source": [
    "# Model Building\n",
    "I will be experimenting with algorithim:\n",
    "\n",
    "1.Multiple linear regression\n",
    "-   Multiple linear regression before applying Backward Elimination Method    \n",
    "-   Multiple linear regression After applying Backward Elimination Method   \n",
    "2.Ridge  \n",
    "3.Lasso  \n",
    "4.Validation Curve  \n",
    "-   Using Ridge\n",
    "-   Using Lasso\n",
    "5.Decision Tree   \n",
    "6.Random Forest   \n",
    "7.GridSearchCV\n",
    "- using Decision Tree\n",
    "- using Random Forest\n",
    "8.Bagging  \n",
    "- using Decision Tree\n",
    "- using Random Forest\n",
    "9.Gradient Boosting  \n",
    "10.Ada Boost  \n",
    "11.XG Boost"
   ]
  },
  {
   "cell_type": "markdown",
   "id": "9f946de2",
   "metadata": {},
   "source": [
    "## Multiple linear regression before applying Backward Elimination Method"
   ]
  },
  {
   "cell_type": "code",
   "execution_count": 47,
   "id": "5acab4bc",
   "metadata": {},
   "outputs": [],
   "source": [
    "# import Libraries for linear regression\n",
    "from sklearn.linear_model import LinearRegression\n",
    "from sklearn.metrics import r2_score,mean_squared_error\n",
    "regressor = LinearRegression()"
   ]
  },
  {
   "cell_type": "code",
   "execution_count": 48,
   "id": "da6a37b5",
   "metadata": {},
   "outputs": [
    {
     "data": {
      "text/plain": [
       "LinearRegression()"
      ]
     },
     "execution_count": 48,
     "metadata": {},
     "output_type": "execute_result"
    }
   ],
   "source": [
    "# Fit the model on the training data\n",
    "regressor.fit(X_train, y_train)"
   ]
  },
  {
   "cell_type": "code",
   "execution_count": 49,
   "id": "d0449489",
   "metadata": {},
   "outputs": [
    {
     "name": "stdout",
     "output_type": "stream",
     "text": [
      "[ 4.29560583e-01  9.16241174e+01  1.01809891e+01  2.57802465e+02\n",
      " -9.62636903e+03  9.62636903e+03  2.20836623e+02  3.59103585e+02\n",
      " -5.79940208e+02  9.14527889e+02]\n"
     ]
    }
   ],
   "source": [
    "#Calculating the coefficients:\n",
    "print(regressor.coef_)"
   ]
  },
  {
   "cell_type": "code",
   "execution_count": 50,
   "id": "699f5bae",
   "metadata": {},
   "outputs": [
    {
     "name": "stdout",
     "output_type": "stream",
     "text": [
      "45804.703862026414\n"
     ]
    }
   ],
   "source": [
    "#Calculating the intercept:\n",
    "print(regressor.intercept_)"
   ]
  },
  {
   "cell_type": "code",
   "execution_count": 51,
   "id": "394431d8",
   "metadata": {},
   "outputs": [],
   "source": [
    "# Predicting the Test set results\n",
    "y_pred = regressor.predict(X_test)"
   ]
  },
  {
   "cell_type": "code",
   "execution_count": 52,
   "id": "18010ac1",
   "metadata": {},
   "outputs": [
    {
     "name": "stdout",
     "output_type": "stream",
     "text": [
      "MSE:  68751323.92959404\n",
      "Accuracy of the model:  0.5366674761765406\n"
     ]
    }
   ],
   "source": [
    "# Accuracy of the model\n",
    "\n",
    "#Calculating the r squared value and mse:\n",
    "\n",
    "print(\"MSE: \", mean_squared_error(y_test, y_pred))\n",
    "print(\"Accuracy of the model: \", r2_score(y_test,y_pred))"
   ]
  },
  {
   "cell_type": "code",
   "execution_count": null,
   "id": "a9888e77",
   "metadata": {},
   "outputs": [],
   "source": []
  },
  {
   "cell_type": "markdown",
   "id": "fe2bfaf0",
   "metadata": {},
   "source": [
    "## Multiple linear regression After applying Backward Elimination Method"
   ]
  },
  {
   "cell_type": "code",
   "execution_count": 53,
   "id": "785132ce",
   "metadata": {},
   "outputs": [],
   "source": [
    "#Extracting Independent and dependent Variable\n",
    "X_BE=X.drop(['Previous job change','Graduation Marks','Cities_metro'],axis=1)\n",
    "y_BE=df['CTC']"
   ]
  },
  {
   "cell_type": "code",
   "execution_count": 54,
   "id": "958b9e20",
   "metadata": {
    "scrolled": true
   },
   "outputs": [
    {
     "data": {
      "text/html": [
       "<div>\n",
       "<style scoped>\n",
       "    .dataframe tbody tr th:only-of-type {\n",
       "        vertical-align: middle;\n",
       "    }\n",
       "\n",
       "    .dataframe tbody tr th {\n",
       "        vertical-align: top;\n",
       "    }\n",
       "\n",
       "    .dataframe thead th {\n",
       "        text-align: right;\n",
       "    }\n",
       "</style>\n",
       "<table border=\"1\" class=\"dataframe\">\n",
       "  <thead>\n",
       "    <tr style=\"text-align: right;\">\n",
       "      <th></th>\n",
       "      <th>Previous CTC</th>\n",
       "      <th>EXP (Month)</th>\n",
       "      <th>Role_Executive</th>\n",
       "      <th>Role_Manager</th>\n",
       "      <th>Tier_tier1</th>\n",
       "      <th>Tier_tier2</th>\n",
       "      <th>Tier_tier3</th>\n",
       "    </tr>\n",
       "  </thead>\n",
       "  <tbody>\n",
       "    <tr>\n",
       "      <th>0</th>\n",
       "      <td>55523.0</td>\n",
       "      <td>19</td>\n",
       "      <td>0</td>\n",
       "      <td>1</td>\n",
       "      <td>0</td>\n",
       "      <td>1</td>\n",
       "      <td>0</td>\n",
       "    </tr>\n",
       "    <tr>\n",
       "      <th>1</th>\n",
       "      <td>57081.0</td>\n",
       "      <td>18</td>\n",
       "      <td>1</td>\n",
       "      <td>0</td>\n",
       "      <td>0</td>\n",
       "      <td>1</td>\n",
       "      <td>0</td>\n",
       "    </tr>\n",
       "    <tr>\n",
       "      <th>2</th>\n",
       "      <td>60347.0</td>\n",
       "      <td>28</td>\n",
       "      <td>1</td>\n",
       "      <td>0</td>\n",
       "      <td>0</td>\n",
       "      <td>0</td>\n",
       "      <td>1</td>\n",
       "    </tr>\n",
       "    <tr>\n",
       "      <th>3</th>\n",
       "      <td>49010.0</td>\n",
       "      <td>33</td>\n",
       "      <td>1</td>\n",
       "      <td>0</td>\n",
       "      <td>0</td>\n",
       "      <td>0</td>\n",
       "      <td>1</td>\n",
       "    </tr>\n",
       "    <tr>\n",
       "      <th>4</th>\n",
       "      <td>57879.0</td>\n",
       "      <td>32</td>\n",
       "      <td>1</td>\n",
       "      <td>0</td>\n",
       "      <td>1</td>\n",
       "      <td>0</td>\n",
       "      <td>0</td>\n",
       "    </tr>\n",
       "  </tbody>\n",
       "</table>\n",
       "</div>"
      ],
      "text/plain": [
       "   Previous CTC  EXP (Month)  Role_Executive  Role_Manager  Tier_tier1  \\\n",
       "0       55523.0           19               0             1           0   \n",
       "1       57081.0           18               1             0           0   \n",
       "2       60347.0           28               1             0           0   \n",
       "3       49010.0           33               1             0           0   \n",
       "4       57879.0           32               1             0           1   \n",
       "\n",
       "   Tier_tier2  Tier_tier3  \n",
       "0           1           0  \n",
       "1           1           0  \n",
       "2           0           1  \n",
       "3           0           1  \n",
       "4           0           0  "
      ]
     },
     "execution_count": 54,
     "metadata": {},
     "output_type": "execute_result"
    }
   ],
   "source": [
    "X_BE.head()"
   ]
  },
  {
   "cell_type": "code",
   "execution_count": 55,
   "id": "93c31482",
   "metadata": {},
   "outputs": [],
   "source": [
    "# Splitting the dataset into the Training set and Test set\n",
    "X_train_BE, X_test_BE, y_train_BE, y_test_BE = train_test_split(X_BE, y_BE, test_size = 0.2, random_state = 0)"
   ]
  },
  {
   "cell_type": "code",
   "execution_count": 56,
   "id": "f1917768",
   "metadata": {},
   "outputs": [
    {
     "data": {
      "text/plain": [
       "LinearRegression()"
      ]
     },
     "execution_count": 56,
     "metadata": {},
     "output_type": "execute_result"
    }
   ],
   "source": [
    "# Fitting Linear Regression to the Training set\n",
    "regressor_BE = LinearRegression()\n",
    "regressor_BE.fit(X_train_BE, y_train_BE)"
   ]
  },
  {
   "cell_type": "code",
   "execution_count": 57,
   "id": "c014ee65",
   "metadata": {},
   "outputs": [
    {
     "name": "stdout",
     "output_type": "stream",
     "text": [
      "[ 4.31101953e-01  2.56547951e+02 -9.60400118e+03  9.60400118e+03\n",
      "  2.28020570e+02  3.85633516e+02 -6.13654085e+02]\n"
     ]
    }
   ],
   "source": [
    "#Calculating the coefficients:\n",
    "print(regressor_BE.coef_)"
   ]
  },
  {
   "cell_type": "code",
   "execution_count": 58,
   "id": "553c2759",
   "metadata": {},
   "outputs": [
    {
     "name": "stdout",
     "output_type": "stream",
     "text": [
      "47060.89219574822\n"
     ]
    }
   ],
   "source": [
    "#Calculating the intercept:\n",
    "print(regressor_BE.intercept_)"
   ]
  },
  {
   "cell_type": "code",
   "execution_count": 59,
   "id": "f8b8ce6e",
   "metadata": {},
   "outputs": [],
   "source": [
    "# Predicting the Test set results \n",
    "y_pred_BE = regressor_BE.predict(X_test_BE)"
   ]
  },
  {
   "cell_type": "code",
   "execution_count": 60,
   "id": "a90d679f",
   "metadata": {},
   "outputs": [
    {
     "name": "stdout",
     "output_type": "stream",
     "text": [
      "MSE:  67723983.59508029\n",
      "Accuracy of the model:  0.5435909819770013\n"
     ]
    }
   ],
   "source": [
    "# Accuracy of the model\n",
    "\n",
    "#Calculating the r squared value and mse:\n",
    "\n",
    "print(\"MSE: \", mean_squared_error(y_test_BE,y_pred_BE))\n",
    "print(\"Accuracy of the model: \", r2_score(y_test_BE,y_pred_BE))"
   ]
  },
  {
   "cell_type": "code",
   "execution_count": null,
   "id": "04b673f1",
   "metadata": {},
   "outputs": [],
   "source": []
  },
  {
   "cell_type": "markdown",
   "id": "1fe1246f",
   "metadata": {},
   "source": [
    "Conclusion:  \n",
    "As we can observe from the above that the X_BE and y_BE giving better accuracy than X and y. Now I will build all the model by spliting X_BE and y_BE data."
   ]
  },
  {
   "cell_type": "raw",
   "id": "39d82a2c",
   "metadata": {},
   "source": []
  },
  {
   "cell_type": "markdown",
   "id": "76661062",
   "metadata": {},
   "source": [
    "## Ridge"
   ]
  },
  {
   "cell_type": "code",
   "execution_count": 61,
   "id": "088a1a8b",
   "metadata": {},
   "outputs": [],
   "source": [
    "# Import Library\n",
    "from sklearn.linear_model import Ridge\n",
    "from sklearn import preprocessing"
   ]
  },
  {
   "cell_type": "raw",
   "id": "7d5c399c",
   "metadata": {},
   "source": []
  },
  {
   "cell_type": "markdown",
   "id": "741f2382",
   "metadata": {},
   "source": [
    "The idea behind the StandardScaler is that variables that are measured at different scales do not contribute equally to the fit of the model and the learning function of the model and could end up creating a bias.     \n",
    "\n",
    "So, to deal with this potential problem, we need to standardize the data"
   ]
  },
  {
   "cell_type": "raw",
   "id": "856d94a3",
   "metadata": {},
   "source": []
  },
  {
   "cell_type": "code",
   "execution_count": 62,
   "id": "6367bf79",
   "metadata": {},
   "outputs": [],
   "source": [
    "scaler=preprocessing.StandardScaler().fit(X_train_BE)"
   ]
  },
  {
   "cell_type": "code",
   "execution_count": 63,
   "id": "d3248ca6",
   "metadata": {},
   "outputs": [],
   "source": [
    "X_train_s=scaler.transform(X_train_BE)"
   ]
  },
  {
   "cell_type": "code",
   "execution_count": 64,
   "id": "8fb59cc0",
   "metadata": {},
   "outputs": [],
   "source": [
    "X_test_s=scaler.transform(X_test_BE)"
   ]
  },
  {
   "cell_type": "code",
   "execution_count": 65,
   "id": "6d644dfc",
   "metadata": {},
   "outputs": [
    {
     "data": {
      "text/plain": [
       "Ridge(alpha=1)"
      ]
     },
     "execution_count": 65,
     "metadata": {},
     "output_type": "execute_result"
    }
   ],
   "source": [
    "# Fit the model on the training data\n",
    "lm_r=Ridge(alpha=1)\n",
    "lm_r.fit(X_train_s,y_train_BE)"
   ]
  },
  {
   "cell_type": "code",
   "execution_count": 66,
   "id": "8226498f",
   "metadata": {},
   "outputs": [],
   "source": [
    "# Predicting the Test set results \n",
    "y_pred_lm_r=lm_r.predict(X_test_s)"
   ]
  },
  {
   "cell_type": "code",
   "execution_count": 67,
   "id": "6051aab1",
   "metadata": {},
   "outputs": [
    {
     "name": "stdout",
     "output_type": "stream",
     "text": [
      "MSE:  67726112.21770285\n",
      "Accuracy of the model:  0.5435766366519135\n"
     ]
    }
   ],
   "source": [
    "# Accuracy of the model\n",
    "\n",
    "#Calculating the r squared value and mse:\n",
    "print(\"MSE: \", mean_squared_error(y_test_BE,y_pred_lm_r))\n",
    "print(\"Accuracy of the model: \",r2_score(y_test_BE,y_pred_lm_r))"
   ]
  },
  {
   "cell_type": "markdown",
   "id": "bbc32dd6",
   "metadata": {},
   "source": [
    "## Lasso"
   ]
  },
  {
   "cell_type": "code",
   "execution_count": 68,
   "id": "3bef33d5",
   "metadata": {},
   "outputs": [],
   "source": [
    "# import Library\n",
    "from sklearn.linear_model import Lasso"
   ]
  },
  {
   "cell_type": "code",
   "execution_count": 69,
   "id": "a81f22de",
   "metadata": {},
   "outputs": [
    {
     "data": {
      "text/plain": [
       "Lasso(alpha=1)"
      ]
     },
     "execution_count": 69,
     "metadata": {},
     "output_type": "execute_result"
    }
   ],
   "source": [
    "# Fit the model on the training data\n",
    "lm_l=Lasso(alpha=1)\n",
    "lm_l.fit(X_train_s,y_train_BE)"
   ]
  },
  {
   "cell_type": "code",
   "execution_count": 70,
   "id": "967d83f5",
   "metadata": {},
   "outputs": [],
   "source": [
    "# Predicting the Test set results \n",
    "y_pred_lm_l=lm_l.predict(X_test_s)"
   ]
  },
  {
   "cell_type": "code",
   "execution_count": 71,
   "id": "10d5be14",
   "metadata": {},
   "outputs": [
    {
     "name": "stdout",
     "output_type": "stream",
     "text": [
      "MSE:  67724956.99669883\n",
      "Accuracy of the model:  0.5435844219778212\n"
     ]
    }
   ],
   "source": [
    "# Accuracy of the model\n",
    "\n",
    "#Calculating the r squared value and mse:\n",
    "print(\"MSE: \", mean_squared_error(y_test_BE,y_pred_lm_l))\n",
    "print(\"Accuracy of the model: \",r2_score(y_test_BE,y_pred_lm_l))"
   ]
  },
  {
   "cell_type": "code",
   "execution_count": null,
   "id": "21a02b8f",
   "metadata": {},
   "outputs": [],
   "source": []
  },
  {
   "cell_type": "markdown",
   "id": "ba42fed4",
   "metadata": {},
   "source": [
    "### Validation curve using Ridge"
   ]
  },
  {
   "cell_type": "code",
   "execution_count": 72,
   "id": "7cc50f86",
   "metadata": {},
   "outputs": [],
   "source": [
    "# Import Library\n",
    "from sklearn.model_selection import validation_curve"
   ]
  },
  {
   "cell_type": "code",
   "execution_count": 73,
   "id": "2b28ef70",
   "metadata": {},
   "outputs": [],
   "source": [
    "# Define the range of hyperparameter values to test\n",
    "param_range=np.logspace(-2,8,100)"
   ]
  },
  {
   "cell_type": "code",
   "execution_count": 74,
   "id": "aca3fc33",
   "metadata": {},
   "outputs": [
    {
     "name": "stderr",
     "output_type": "stream",
     "text": [
      "C:\\Users\\Navin\\anaconda3\\lib\\site-packages\\sklearn\\utils\\validation.py:70: FutureWarning: Pass param_name=alpha, param_range=[1.00000000e-02 1.26185688e-02 1.59228279e-02 2.00923300e-02\n",
      " 2.53536449e-02 3.19926714e-02 4.03701726e-02 5.09413801e-02\n",
      " 6.42807312e-02 8.11130831e-02 1.02353102e-01 1.29154967e-01\n",
      " 1.62975083e-01 2.05651231e-01 2.59502421e-01 3.27454916e-01\n",
      " 4.13201240e-01 5.21400829e-01 6.57933225e-01 8.30217568e-01\n",
      " 1.04761575e+00 1.32194115e+00 1.66810054e+00 2.10490414e+00\n",
      " 2.65608778e+00 3.35160265e+00 4.22924287e+00 5.33669923e+00\n",
      " 6.73415066e+00 8.49753436e+00 1.07226722e+01 1.35304777e+01\n",
      " 1.70735265e+01 2.15443469e+01 2.71858824e+01 3.43046929e+01\n",
      " 4.32876128e+01 5.46227722e+01 6.89261210e+01 8.69749003e+01\n",
      " 1.09749877e+02 1.38488637e+02 1.74752840e+02 2.20513074e+02\n",
      " 2.78255940e+02 3.51119173e+02 4.43062146e+02 5.59081018e+02\n",
      " 7.05480231e+02 8.90215085e+02 1.12332403e+03 1.41747416e+03\n",
      " 1.78864953e+03 2.25701972e+03 2.84803587e+03 3.59381366e+03\n",
      " 4.53487851e+03 5.72236766e+03 7.22080902e+03 9.11162756e+03\n",
      " 1.14975700e+04 1.45082878e+04 1.83073828e+04 2.31012970e+04\n",
      " 2.91505306e+04 3.67837977e+04 4.64158883e+04 5.85702082e+04\n",
      " 7.39072203e+04 9.32603347e+04 1.17681195e+05 1.48496826e+05\n",
      " 1.87381742e+05 2.36448941e+05 2.98364724e+05 3.76493581e+05\n",
      " 4.75081016e+05 5.99484250e+05 7.56463328e+05 9.54548457e+05\n",
      " 1.20450354e+06 1.51991108e+06 1.91791026e+06 2.42012826e+06\n",
      " 3.05385551e+06 3.85352859e+06 4.86260158e+06 6.13590727e+06\n",
      " 7.74263683e+06 9.77009957e+06 1.23284674e+07 1.55567614e+07\n",
      " 1.96304065e+07 2.47707636e+07 3.12571585e+07 3.94420606e+07\n",
      " 4.97702356e+07 6.28029144e+07 7.92482898e+07 1.00000000e+08] as keyword args. From version 1.0 (renaming of 0.25) passing these as positional arguments will result in an error\n",
      "  warnings.warn(f\"Pass {args_msg} as keyword args. From version \"\n"
     ]
    }
   ],
   "source": [
    "# Create a validation curve:\n",
    "train_scores_r,test_scores_r=validation_curve(Ridge(),X_train_s,y_train_BE,'alpha',param_range,scoring='r2')\n",
    "train_mean_r=np.mean(train_scores_r,axis=1)\n",
    "test_mean_r=np.mean(test_scores_r,axis=1)"
   ]
  },
  {
   "cell_type": "code",
   "execution_count": 75,
   "id": "a4b2328c",
   "metadata": {},
   "outputs": [
    {
     "data": {
      "text/plain": [
       "0.526024425838626"
      ]
     },
     "execution_count": 75,
     "metadata": {},
     "output_type": "execute_result"
    }
   ],
   "source": [
    "max(test_mean_r)"
   ]
  },
  {
   "cell_type": "code",
   "execution_count": 76,
   "id": "c4891790",
   "metadata": {},
   "outputs": [
    {
     "data": {
      "text/plain": [
       "<seaborn.axisgrid.JointGrid at 0x1f7d25c4ac0>"
      ]
     },
     "execution_count": 76,
     "metadata": {},
     "output_type": "execute_result"
    },
    {
     "data": {
      "image/png": "[encoded data removed]",
      "text/plain": [
       "<Figure size 432x432 with 3 Axes>"
      ]
     },
     "metadata": {
      "needs_background": "light"
     },
     "output_type": "display_data"
    }
   ],
   "source": [
    "# Plot the validation curve\n",
    "sns.jointplot(x=np.log(param_range),y=test_mean_r)"
   ]
  },
  {
   "cell_type": "code",
   "execution_count": 77,
   "id": "5beeb0bb",
   "metadata": {},
   "outputs": [
    {
     "data": {
      "text/plain": [
       "(array([27], dtype=int64),)"
      ]
     },
     "execution_count": 77,
     "metadata": {},
     "output_type": "execute_result"
    }
   ],
   "source": [
    "np.where(test_mean_r==max(test_mean_r))"
   ]
  },
  {
   "cell_type": "code",
   "execution_count": 78,
   "id": "51fb2f9d",
   "metadata": {},
   "outputs": [
    {
     "data": {
      "text/plain": [
       "5.336699231206307"
      ]
     },
     "execution_count": 78,
     "metadata": {},
     "output_type": "execute_result"
    }
   ],
   "source": [
    "param_range[27]"
   ]
  },
  {
   "cell_type": "code",
   "execution_count": 79,
   "id": "2b2c1f45",
   "metadata": {},
   "outputs": [],
   "source": [
    "lm_r_best=Ridge(alpha=param_range[27])"
   ]
  },
  {
   "cell_type": "code",
   "execution_count": 80,
   "id": "cbe7ff27",
   "metadata": {},
   "outputs": [
    {
     "data": {
      "text/plain": [
       "Ridge(alpha=5.336699231206307)"
      ]
     },
     "execution_count": 80,
     "metadata": {},
     "output_type": "execute_result"
    }
   ],
   "source": [
    "# Fit the model on the training data\n",
    "lm_r_best.fit(X_train_s,y_train_BE)"
   ]
  },
  {
   "cell_type": "code",
   "execution_count": 81,
   "id": "f751a331",
   "metadata": {},
   "outputs": [],
   "source": [
    "# Predicting the Test set results \n",
    "yp_pred_ll=lm_r_best.predict(X_test_s)"
   ]
  },
  {
   "cell_type": "code",
   "execution_count": 82,
   "id": "5264a8b8",
   "metadata": {},
   "outputs": [
    {
     "name": "stdout",
     "output_type": "stream",
     "text": [
      "MSE:  67735731.17751834\n",
      "Accuracy of the model:  0.5435118120540275\n"
     ]
    },
    {
     "data": {
      "text/plain": [
       "0.5435118120540275"
      ]
     },
     "execution_count": 82,
     "metadata": {},
     "output_type": "execute_result"
    }
   ],
   "source": [
    "# Accuracy of the model\n",
    "\n",
    "#Calculating the r squared value and mse:\n",
    "print(\"MSE: \", mean_squared_error(y_test_BE,yp_pred_ll))\n",
    "print(\"Accuracy of the model: \",r2_score(y_test_BE,yp_pred_ll))\n",
    "r2_score(y_test_BE,yp_pred_ll)"
   ]
  },
  {
   "cell_type": "markdown",
   "id": "6e21bee3",
   "metadata": {},
   "source": [
    "### Validation Curve using Lasso"
   ]
  },
  {
   "cell_type": "code",
   "execution_count": 83,
   "id": "f231193a",
   "metadata": {},
   "outputs": [],
   "source": [
    "# Define the range of hyperparameter values to test\n",
    "param_range=np.logspace(-2,6,100)"
   ]
  },
  {
   "cell_type": "code",
   "execution_count": 84,
   "id": "34921bc6",
   "metadata": {},
   "outputs": [
    {
     "name": "stderr",
     "output_type": "stream",
     "text": [
      "C:\\Users\\Navin\\anaconda3\\lib\\site-packages\\sklearn\\utils\\validation.py:70: FutureWarning: Pass param_name=alpha, param_range=[1.00000000e-02 1.20450354e-02 1.45082878e-02 1.74752840e-02\n",
      " 2.10490414e-02 2.53536449e-02 3.05385551e-02 3.67837977e-02\n",
      " 4.43062146e-02 5.33669923e-02 6.42807312e-02 7.74263683e-02\n",
      " 9.32603347e-02 1.12332403e-01 1.35304777e-01 1.62975083e-01\n",
      " 1.96304065e-01 2.36448941e-01 2.84803587e-01 3.43046929e-01\n",
      " 4.13201240e-01 4.97702356e-01 5.99484250e-01 7.22080902e-01\n",
      " 8.69749003e-01 1.04761575e+00 1.26185688e+00 1.51991108e+00\n",
      " 1.83073828e+00 2.20513074e+00 2.65608778e+00 3.19926714e+00\n",
      " 3.85352859e+00 4.64158883e+00 5.59081018e+00 6.73415066e+00\n",
      " 8.11130831e+00 9.77009957e+00 1.17681195e+01 1.41747416e+01\n",
      " 1.70735265e+01 2.05651231e+01 2.47707636e+01 2.98364724e+01\n",
      " 3.59381366e+01 4.32876128e+01 5.21400829e+01 6.28029144e+01\n",
      " 7.56463328e+01 9.11162756e+01 1.09749877e+02 1.32194115e+02\n",
      " 1.59228279e+02 1.91791026e+02 2.31012970e+02 2.78255940e+02\n",
      " 3.35160265e+02 4.03701726e+02 4.86260158e+02 5.85702082e+02\n",
      " 7.05480231e+02 8.49753436e+02 1.02353102e+03 1.23284674e+03\n",
      " 1.48496826e+03 1.78864953e+03 2.15443469e+03 2.59502421e+03\n",
      " 3.12571585e+03 3.76493581e+03 4.53487851e+03 5.46227722e+03\n",
      " 6.57933225e+03 7.92482898e+03 9.54548457e+03 1.14975700e+04\n",
      " 1.38488637e+04 1.66810054e+04 2.00923300e+04 2.42012826e+04\n",
      " 2.91505306e+04 3.51119173e+04 4.22924287e+04 5.09413801e+04\n",
      " 6.13590727e+04 7.39072203e+04 8.90215085e+04 1.07226722e+05\n",
      " 1.29154967e+05 1.55567614e+05 1.87381742e+05 2.25701972e+05\n",
      " 2.71858824e+05 3.27454916e+05 3.94420606e+05 4.75081016e+05\n",
      " 5.72236766e+05 6.89261210e+05 8.30217568e+05 1.00000000e+06] as keyword args. From version 1.0 (renaming of 0.25) passing these as positional arguments will result in an error\n",
      "  warnings.warn(f\"Pass {args_msg} as keyword args. From version \"\n"
     ]
    }
   ],
   "source": [
    "# Create a validation curve:\n",
    "train_scores_l,test_scores_l=validation_curve(Lasso(),X_train_s,y_train_BE,'alpha',param_range,scoring='r2')\n",
    "train_mean_l=np.mean(train_scores_l,axis=1)\n",
    "test_mean_l=np.mean(test_scores_l,axis=1)"
   ]
  },
  {
   "cell_type": "code",
   "execution_count": 85,
   "id": "6c050022",
   "metadata": {},
   "outputs": [
    {
     "data": {
      "text/plain": [
       "0.5260769515953175"
      ]
     },
     "execution_count": 85,
     "metadata": {},
     "output_type": "execute_result"
    }
   ],
   "source": [
    "max(test_mean_l)"
   ]
  },
  {
   "cell_type": "code",
   "execution_count": 86,
   "id": "bcb6bfa4",
   "metadata": {},
   "outputs": [
    {
     "data": {
      "text/plain": [
       "<seaborn.axisgrid.JointGrid at 0x1f7d268b5b0>"
      ]
     },
     "execution_count": 86,
     "metadata": {},
     "output_type": "execute_result"
    },
    {
     "data": {
      "image/png": "[encoded data removed]",
      "text/plain": [
       "<Figure size 432x432 with 3 Axes>"
      ]
     },
     "metadata": {
      "needs_background": "light"
     },
     "output_type": "display_data"
    }
   ],
   "source": [
    "# Plot the validation curve\n",
    "sns.jointplot(x=np.log(param_range),y=test_mean_l)"
   ]
  },
  {
   "cell_type": "code",
   "execution_count": 87,
   "id": "92acb6d3",
   "metadata": {},
   "outputs": [
    {
     "data": {
      "text/plain": [
       "(array([46], dtype=int64),)"
      ]
     },
     "execution_count": 87,
     "metadata": {},
     "output_type": "execute_result"
    }
   ],
   "source": [
    "np.where(test_mean_l==max(test_mean_l))\n"
   ]
  },
  {
   "cell_type": "code",
   "execution_count": 88,
   "id": "991dcde3",
   "metadata": {},
   "outputs": [
    {
     "data": {
      "text/plain": [
       "52.140082879996896"
      ]
     },
     "execution_count": 88,
     "metadata": {},
     "output_type": "execute_result"
    }
   ],
   "source": [
    "param_range[46]"
   ]
  },
  {
   "cell_type": "code",
   "execution_count": 89,
   "id": "d254474c",
   "metadata": {},
   "outputs": [],
   "source": [
    "lm_l_best=Lasso(alpha=param_range[46])"
   ]
  },
  {
   "cell_type": "code",
   "execution_count": 90,
   "id": "221d2e42",
   "metadata": {},
   "outputs": [
    {
     "data": {
      "text/plain": [
       "Lasso(alpha=52.140082879996896)"
      ]
     },
     "execution_count": 90,
     "metadata": {},
     "output_type": "execute_result"
    }
   ],
   "source": [
    "# Fit the model on the training data\n",
    "lm_l_best.fit(X_train_s,y_train_BE)"
   ]
  },
  {
   "cell_type": "code",
   "execution_count": 91,
   "id": "63cbf29f",
   "metadata": {},
   "outputs": [],
   "source": [
    "# Predicting the Test set results \n",
    "y_pred_lm_la=lm_l_best.predict(X_test_s)"
   ]
  },
  {
   "cell_type": "code",
   "execution_count": 93,
   "id": "764f8eb9",
   "metadata": {},
   "outputs": [
    {
     "name": "stdout",
     "output_type": "stream",
     "text": [
      "MSE:  67782427.23227455\n",
      "Accuracy of the model:  0.5431971155556017\n"
     ]
    }
   ],
   "source": [
    "# Accuracy of the model\n",
    "\n",
    "#Calculating the r squared value and mse:\n",
    "print(\"MSE: \", mean_squared_error(y_test_BE,y_pred_lm_la))\n",
    "print(\"Accuracy of the model: \",r2_score(y_test_BE,y_pred_lm_la))"
   ]
  },
  {
   "cell_type": "code",
   "execution_count": null,
   "id": "20794aee",
   "metadata": {},
   "outputs": [],
   "source": []
  },
  {
   "cell_type": "markdown",
   "id": "814d20ef",
   "metadata": {},
   "source": [
    "## Decision Tree"
   ]
  },
  {
   "cell_type": "code",
   "execution_count": 94,
   "id": "15c3016e",
   "metadata": {},
   "outputs": [],
   "source": [
    "# import libraries\n",
    "from sklearn import tree\n",
    "from IPython.display import Image\n",
    "import pydotplus"
   ]
  },
  {
   "cell_type": "code",
   "execution_count": 95,
   "id": "dd2f4cc0",
   "metadata": {},
   "outputs": [],
   "source": [
    "# Create a Decision Tree Regressor\n",
    "regtree = tree.DecisionTreeRegressor(min_samples_leaf = 50, max_depth=5)"
   ]
  },
  {
   "cell_type": "code",
   "execution_count": 96,
   "id": "2afbabf5",
   "metadata": {},
   "outputs": [
    {
     "data": {
      "text/plain": [
       "DecisionTreeRegressor(max_depth=5, min_samples_leaf=50)"
      ]
     },
     "execution_count": 96,
     "metadata": {},
     "output_type": "execute_result"
    }
   ],
   "source": [
    "# Fit the model on the training data\n",
    "regtree.fit(X_train_BE, y_train_BE)"
   ]
  },
  {
   "cell_type": "code",
   "execution_count": 97,
   "id": "8496aff7",
   "metadata": {},
   "outputs": [],
   "source": [
    "# Predicting the Test set results \n",
    "y_pred_regtree = regtree.predict(X_test_BE)"
   ]
  },
  {
   "cell_type": "code",
   "execution_count": 98,
   "id": "8327003f",
   "metadata": {},
   "outputs": [
    {
     "name": "stdout",
     "output_type": "stream",
     "text": [
      "MSE:  60288876.01163898\n",
      "Accuracy of the model:  0.593698048497824\n"
     ]
    }
   ],
   "source": [
    "# Accuracy of the model\n",
    "\n",
    "#Calculating the r squared value and mse:\n",
    "print(\"MSE: \", mean_squared_error(y_test_BE,y_pred_regtree ))\n",
    "print(\"Accuracy of the model: \",r2_score(y_test_BE,y_pred_regtree ))"
   ]
  },
  {
   "cell_type": "code",
   "execution_count": 99,
   "id": "bf931b34",
   "metadata": {},
   "outputs": [
    {
     "data": {
      "image/png": "[encoded data removed]",
      "text/plain": [
       "<Figure size 720x720 with 1 Axes>"
      ]
     },
     "metadata": {
      "needs_background": "light"
     },
     "output_type": "display_data"
    }
   ],
   "source": [
    "# plotting decision tree\n",
    "import matplotlib.pyplot as plt\n",
    "plt.figure(figsize=(10, 10))\n",
    "tree.plot_tree(regtree, feature_names=X_train_BE.columns, filled=True)\n",
    "plt.show()"
   ]
  },
  {
   "cell_type": "markdown",
   "id": "18fd1cdd",
   "metadata": {},
   "source": [
    "## Random Forest"
   ]
  },
  {
   "cell_type": "code",
   "execution_count": 100,
   "id": "04c59d72",
   "metadata": {},
   "outputs": [],
   "source": [
    "# import library\n",
    "from sklearn.ensemble import RandomForestRegressor"
   ]
  },
  {
   "cell_type": "code",
   "execution_count": 101,
   "id": "9aee5e0a",
   "metadata": {},
   "outputs": [],
   "source": [
    "# Create a Random forest Regressor\n",
    "regforest = RandomForestRegressor(n_estimators=100,n_jobs=-1,random_state=0)"
   ]
  },
  {
   "cell_type": "code",
   "execution_count": 102,
   "id": "4a0fb651",
   "metadata": {},
   "outputs": [
    {
     "data": {
      "text/plain": [
       "RandomForestRegressor(n_jobs=-1, random_state=0)"
      ]
     },
     "execution_count": 102,
     "metadata": {},
     "output_type": "execute_result"
    }
   ],
   "source": [
    "# Fit the model on the training data\n",
    "regforest.fit(X_train_BE, y_train_BE)"
   ]
  },
  {
   "cell_type": "code",
   "execution_count": 103,
   "id": "47e016da",
   "metadata": {},
   "outputs": [],
   "source": [
    "# Predicting the Test set results\n",
    "y_pred_regforest = regforest.predict(X_test_BE)"
   ]
  },
  {
   "cell_type": "code",
   "execution_count": 104,
   "id": "b6f332c0",
   "metadata": {},
   "outputs": [
    {
     "name": "stdout",
     "output_type": "stream",
     "text": [
      "MSE:  54775331.167208105\n",
      "Accuracy of the model:  0.6308552187451937\n"
     ]
    }
   ],
   "source": [
    "# Accuracy of the model\n",
    "\n",
    "#Calculating the r squared value and mse:\n",
    "print(\"MSE: \", mean_squared_error(y_test_BE,y_pred_regforest ))\n",
    "print(\"Accuracy of the model: \",r2_score(y_test_BE,y_pred_regforest))"
   ]
  },
  {
   "cell_type": "markdown",
   "id": "9b346e4d",
   "metadata": {},
   "source": [
    "## GridSearch CV\n",
    "#### Using Decision Tree"
   ]
  },
  {
   "cell_type": "code",
   "execution_count": 105,
   "id": "6e385239",
   "metadata": {},
   "outputs": [],
   "source": [
    "# Import Libraries\n",
    "from sklearn import tree\n",
    "from sklearn.model_selection import GridSearchCV"
   ]
  },
  {
   "cell_type": "code",
   "execution_count": 106,
   "id": "d4a3d82c",
   "metadata": {},
   "outputs": [],
   "source": [
    "# Create a Decision Tree Regressor\n",
    "regtree_cv = tree.DecisionTreeRegressor()"
   ]
  },
  {
   "cell_type": "code",
   "execution_count": 107,
   "id": "99ef2b9d",
   "metadata": {},
   "outputs": [],
   "source": [
    "# Define a parameter grid to search\n",
    "param_grid = {\n",
    "    'max_depth': [3, 4,5, 6],\n",
    "    'min_samples_split': [2, 5, 6,8,10],\n",
    "    'min_samples_leaf': [10, 22, 45,60,70,90]\n",
    "}"
   ]
  },
  {
   "cell_type": "code",
   "execution_count": 108,
   "id": "a031ace9",
   "metadata": {},
   "outputs": [],
   "source": [
    "# Create GridSearchCV\n",
    "grid_search_acc = GridSearchCV(regtree_cv, param_grid, cv=5, n_jobs=-1,scoring='accuracy')"
   ]
  },
  {
   "cell_type": "code",
   "execution_count": 109,
   "id": "5eec1c4e",
   "metadata": {},
   "outputs": [],
   "source": [
    "# Create GridSearchCV\n",
    "grid_search_mse= GridSearchCV(regtree_cv, param_grid, cv=5,n_jobs=-1, scoring='neg_mean_squared_error')"
   ]
  },
  {
   "cell_type": "code",
   "execution_count": 110,
   "id": "9f1bac91",
   "metadata": {},
   "outputs": [
    {
     "name": "stderr",
     "output_type": "stream",
     "text": [
      "C:\\Users\\Navin\\anaconda3\\lib\\site-packages\\sklearn\\model_selection\\_search.py:918: UserWarning: One or more of the test scores are non-finite: [nan nan nan nan nan nan nan nan nan nan nan nan nan nan nan nan nan nan\n",
      " nan nan nan nan nan nan nan nan nan nan nan nan nan nan nan nan nan nan\n",
      " nan nan nan nan nan nan nan nan nan nan nan nan nan nan nan nan nan nan\n",
      " nan nan nan nan nan nan nan nan nan nan nan nan nan nan nan nan nan nan\n",
      " nan nan nan nan nan nan nan nan nan nan nan nan nan nan nan nan nan nan\n",
      " nan nan nan nan nan nan nan nan nan nan nan nan nan nan nan nan nan nan\n",
      " nan nan nan nan nan nan nan nan nan nan nan nan]\n",
      "  warnings.warn(\n"
     ]
    },
    {
     "data": {
      "text/plain": [
       "GridSearchCV(cv=5, estimator=DecisionTreeRegressor(), n_jobs=-1,\n",
       "             param_grid={'max_depth': [3, 4, 5, 6],\n",
       "                         'min_samples_leaf': [10, 22, 45, 60, 70, 90],\n",
       "                         'min_samples_split': [2, 5, 6, 8, 10]},\n",
       "             scoring='accuracy')"
      ]
     },
     "execution_count": 110,
     "metadata": {},
     "output_type": "execute_result"
    }
   ],
   "source": [
    "# Fit the model on the training data\n",
    "grid_search_acc.fit(X_train_BE, y_train_BE)"
   ]
  },
  {
   "cell_type": "code",
   "execution_count": 111,
   "id": "b006303c",
   "metadata": {},
   "outputs": [
    {
     "data": {
      "text/plain": [
       "GridSearchCV(cv=5, estimator=DecisionTreeRegressor(), n_jobs=-1,\n",
       "             param_grid={'max_depth': [3, 4, 5, 6],\n",
       "                         'min_samples_leaf': [10, 22, 45, 60, 70, 90],\n",
       "                         'min_samples_split': [2, 5, 6, 8, 10]},\n",
       "             scoring='neg_mean_squared_error')"
      ]
     },
     "execution_count": 111,
     "metadata": {},
     "output_type": "execute_result"
    }
   ],
   "source": [
    "# Fit the model on the training data\n",
    "grid_search_mse.fit(X_train_BE, y_train_BE)"
   ]
  },
  {
   "cell_type": "code",
   "execution_count": 112,
   "id": "abe8bc60",
   "metadata": {},
   "outputs": [
    {
     "name": "stdout",
     "output_type": "stream",
     "text": [
      "Best Parameters for accuracy: {'max_depth': 3, 'min_samples_leaf': 10, 'min_samples_split': 2}\n",
      "Best Parameters MSE: {'max_depth': 4, 'min_samples_leaf': 10, 'min_samples_split': 2}\n"
     ]
    }
   ],
   "source": [
    "# Get the best parameters\n",
    "best_params_acc = grid_search_acc.best_params_\n",
    "print(\"Best Parameters for accuracy:\", best_params_acc)\n",
    "best_params_mse = grid_search_mse.best_params_\n",
    "print(\"Best Parameters MSE:\", best_params_mse)"
   ]
  },
  {
   "cell_type": "code",
   "execution_count": 113,
   "id": "bf319c83",
   "metadata": {},
   "outputs": [],
   "source": [
    "# Make predictions using the best model for Accuracy\n",
    "best_regressor_acc= grid_search_acc.best_estimator_\n",
    "y_pred_regtree_acc = best_regressor_acc.predict(X_test_BE)"
   ]
  },
  {
   "cell_type": "code",
   "execution_count": 114,
   "id": "e06b006b",
   "metadata": {},
   "outputs": [],
   "source": [
    "# Make predictions using the best model for MSE\n",
    "best_regressor_mse = grid_search_mse.best_estimator_\n",
    "y_pred_regtree_mse = best_regressor_mse.predict(X_test_BE)"
   ]
  },
  {
   "cell_type": "code",
   "execution_count": 115,
   "id": "930165d8",
   "metadata": {},
   "outputs": [
    {
     "name": "stdout",
     "output_type": "stream",
     "text": [
      "MSE:  60424631.02613475\n",
      "Accuracy of the model:  0.5927831611924911\n"
     ]
    }
   ],
   "source": [
    "# Accuracy of the model for Accuracy\n",
    "\n",
    "#Calculating the r squared value and mse:\n",
    "print(\"MSE: \",mean_squared_error(y_test_BE, y_pred_regtree_acc))\n",
    "print(\"Accuracy of the model: \", r2_score(y_test_BE, y_pred_regtree_acc))\n"
   ]
  },
  {
   "cell_type": "code",
   "execution_count": 116,
   "id": "1feb4e9b",
   "metadata": {},
   "outputs": [
    {
     "name": "stdout",
     "output_type": "stream",
     "text": [
      "MSE:  58601838.897289276\n",
      "Accuracy of the model:  0.6050674173957374\n"
     ]
    }
   ],
   "source": [
    "# Accuracy of the model for MSE\n",
    "\n",
    "#Calculating the r squared value and mse:\n",
    "print(\"MSE: \",mean_squared_error(y_test_BE, y_pred_regtree_mse))\n",
    "print(\"Accuracy of the model: \", r2_score(y_test_BE, y_pred_regtree_mse))"
   ]
  },
  {
   "cell_type": "markdown",
   "id": "179c7f75",
   "metadata": {},
   "source": [
    "## GridSearch CV\n",
    "#### using Random Forest"
   ]
  },
  {
   "cell_type": "code",
   "execution_count": 117,
   "id": "f65e8fdc",
   "metadata": {},
   "outputs": [],
   "source": [
    "# Import libraries\n",
    "from sklearn.ensemble import RandomForestRegressor\n",
    "from sklearn.model_selection import GridSearchCV"
   ]
  },
  {
   "cell_type": "code",
   "execution_count": 118,
   "id": "9421c407",
   "metadata": {},
   "outputs": [],
   "source": [
    "# Create a Random Forest Regressor\n",
    "regforest_cv = RandomForestRegressor()"
   ]
  },
  {
   "cell_type": "code",
   "execution_count": 119,
   "id": "44e42958",
   "metadata": {},
   "outputs": [],
   "source": [
    "# Define a parameter grid to search\n",
    "param_grid = {\n",
    "    'n_estimators': [100, 200, 300],\n",
    "    'max_depth': [None, 3, 5],\n",
    "    'min_samples_split': [2, 5, 7, 10],\n",
    "    'min_samples_leaf': [10, 20, 40,50]\n",
    "}"
   ]
  },
  {
   "cell_type": "code",
   "execution_count": 120,
   "id": "dc846fbd",
   "metadata": {},
   "outputs": [],
   "source": [
    "# Create GridSearchCV\n",
    "grid_search_facc = GridSearchCV(regforest_cv, param_grid, cv=5,n_jobs=-1, scoring='accuracy')"
   ]
  },
  {
   "cell_type": "code",
   "execution_count": 121,
   "id": "6e88ca43",
   "metadata": {},
   "outputs": [
    {
     "name": "stderr",
     "output_type": "stream",
     "text": [
      "C:\\Users\\Navin\\anaconda3\\lib\\site-packages\\sklearn\\model_selection\\_search.py:918: UserWarning: One or more of the test scores are non-finite: [nan nan nan nan nan nan nan nan nan nan nan nan nan nan nan nan nan nan\n",
      " nan nan nan nan nan nan nan nan nan nan nan nan nan nan nan nan nan nan\n",
      " nan nan nan nan nan nan nan nan nan nan nan nan nan nan nan nan nan nan\n",
      " nan nan nan nan nan nan nan nan nan nan nan nan nan nan nan nan nan nan\n",
      " nan nan nan nan nan nan nan nan nan nan nan nan nan nan nan nan nan nan\n",
      " nan nan nan nan nan nan nan nan nan nan nan nan nan nan nan nan nan nan\n",
      " nan nan nan nan nan nan nan nan nan nan nan nan nan nan nan nan nan nan\n",
      " nan nan nan nan nan nan nan nan nan nan nan nan nan nan nan nan nan nan]\n",
      "  warnings.warn(\n"
     ]
    },
    {
     "data": {
      "text/plain": [
       "GridSearchCV(cv=5, estimator=RandomForestRegressor(), n_jobs=-1,\n",
       "             param_grid={'max_depth': [None, 3, 5],\n",
       "                         'min_samples_leaf': [10, 20, 40, 50],\n",
       "                         'min_samples_split': [2, 5, 7, 10],\n",
       "                         'n_estimators': [100, 200, 300]},\n",
       "             scoring='accuracy')"
      ]
     },
     "execution_count": 121,
     "metadata": {},
     "output_type": "execute_result"
    }
   ],
   "source": [
    "# Fit the model on the training data\n",
    "grid_search_facc.fit(X_train_BE, y_train_BE)"
   ]
  },
  {
   "cell_type": "code",
   "execution_count": 122,
   "id": "fe2d41a6",
   "metadata": {},
   "outputs": [
    {
     "name": "stdout",
     "output_type": "stream",
     "text": [
      "Best Parameters for accuracy: {'max_depth': None, 'min_samples_leaf': 10, 'min_samples_split': 2, 'n_estimators': 100}\n"
     ]
    }
   ],
   "source": [
    "# Get the best parameters\n",
    "best_params_facc = grid_search_facc.best_params_\n",
    "print(\"Best Parameters for accuracy:\", best_params_facc)"
   ]
  },
  {
   "cell_type": "code",
   "execution_count": 123,
   "id": "1370cddf",
   "metadata": {},
   "outputs": [],
   "source": [
    "# Make predictions using the best model for Accuracy\n",
    "best_regressor_facc= grid_search_facc.best_estimator_\n",
    "y_pred_regtree_facc = best_regressor_facc.predict(X_test_BE)"
   ]
  },
  {
   "cell_type": "code",
   "execution_count": 124,
   "id": "94afc743",
   "metadata": {},
   "outputs": [
    {
     "name": "stdout",
     "output_type": "stream",
     "text": [
      "MSE:  56100932.09494801\n",
      "Accuracy of the model:  0.6219216595302259\n"
     ]
    }
   ],
   "source": [
    "# Accuracy of the model for Accuracy\n",
    "\n",
    "#Calculating the r squared value and mse:\n",
    "print(\"MSE: \",mean_squared_error(y_test_BE, y_pred_regtree_facc))\n",
    "print(\"Accuracy of the model: \", r2_score(y_test_BE, y_pred_regtree_facc))"
   ]
  },
  {
   "cell_type": "markdown",
   "id": "693caab9",
   "metadata": {},
   "source": [
    "## Bagging\n",
    "#### using decision tree"
   ]
  },
  {
   "cell_type": "code",
   "execution_count": 125,
   "id": "f9d2b4c6",
   "metadata": {},
   "outputs": [],
   "source": [
    "# Import Library\n",
    "from sklearn.ensemble import BaggingRegressor\n",
    "from sklearn import tree"
   ]
  },
  {
   "cell_type": "code",
   "execution_count": 126,
   "id": "5858cb5f",
   "metadata": {},
   "outputs": [],
   "source": [
    "# Create a Decision Tree Regressor\n",
    "regtree_bag = tree.DecisionTreeRegressor()"
   ]
  },
  {
   "cell_type": "code",
   "execution_count": 127,
   "id": "b8410433",
   "metadata": {},
   "outputs": [],
   "source": [
    "# Create a Bagging Regressor\n",
    "bagging_regressor = BaggingRegressor(regtree_bag, n_estimators=100,bootstrap=True,n_jobs=-1, random_state=0)"
   ]
  },
  {
   "cell_type": "code",
   "execution_count": 128,
   "id": "f85cd703",
   "metadata": {},
   "outputs": [
    {
     "data": {
      "text/plain": [
       "BaggingRegressor(base_estimator=DecisionTreeRegressor(), n_estimators=100,\n",
       "                 n_jobs=-1, random_state=0)"
      ]
     },
     "execution_count": 128,
     "metadata": {},
     "output_type": "execute_result"
    }
   ],
   "source": [
    "# Fit the Bagging Regressor on the training data\n",
    "bagging_regressor.fit(X_train_BE, y_train_BE)"
   ]
  },
  {
   "cell_type": "code",
   "execution_count": 129,
   "id": "801648ca",
   "metadata": {},
   "outputs": [],
   "source": [
    "# Make predictions\n",
    "y_pred_bagtree = bagging_regressor.predict(X_test_BE)"
   ]
  },
  {
   "cell_type": "code",
   "execution_count": 130,
   "id": "7b79b48d",
   "metadata": {},
   "outputs": [
    {
     "name": "stdout",
     "output_type": "stream",
     "text": [
      "MSE:  54736386.351987205\n",
      "Accuracy of the model:  0.6311176776840879\n"
     ]
    }
   ],
   "source": [
    "# Accuracy of the model\n",
    "\n",
    "#Calculating the r squared value and mse:\n",
    "print(\"MSE: \",mean_squared_error(y_test_BE, y_pred_bagtree))\n",
    "print(\"Accuracy of the model: \", r2_score(y_test_BE, y_pred_bagtree))"
   ]
  },
  {
   "cell_type": "markdown",
   "id": "de6aeb2e",
   "metadata": {},
   "source": [
    "## Bagging\n",
    "#### using Random Forest"
   ]
  },
  {
   "cell_type": "code",
   "execution_count": 131,
   "id": "bc2b97fe",
   "metadata": {},
   "outputs": [],
   "source": [
    "# import libraries\n",
    "from sklearn.ensemble import BaggingRegressor\n",
    "from sklearn.ensemble import RandomForestRegressor"
   ]
  },
  {
   "cell_type": "code",
   "execution_count": 132,
   "id": "621da5db",
   "metadata": {},
   "outputs": [],
   "source": [
    "# Create a Random Tree Regressor\n",
    "regforest_bag = RandomForestRegressor()"
   ]
  },
  {
   "cell_type": "code",
   "execution_count": 133,
   "id": "105ce51f",
   "metadata": {},
   "outputs": [],
   "source": [
    "# Create a Bagging Regressor\n",
    "bagging_regressor_forest = BaggingRegressor(regtree_bag, n_estimators=700,bootstrap=True,n_jobs=-1, random_state=0)"
   ]
  },
  {
   "cell_type": "code",
   "execution_count": 134,
   "id": "d03a0d08",
   "metadata": {},
   "outputs": [
    {
     "data": {
      "text/plain": [
       "BaggingRegressor(base_estimator=DecisionTreeRegressor(), n_estimators=700,\n",
       "                 n_jobs=-1, random_state=0)"
      ]
     },
     "execution_count": 134,
     "metadata": {},
     "output_type": "execute_result"
    }
   ],
   "source": [
    "# Fit the Bagging Regressor on the training data\n",
    "bagging_regressor_forest.fit(X_train_BE, y_train_BE)"
   ]
  },
  {
   "cell_type": "code",
   "execution_count": 135,
   "id": "3ca01ee8",
   "metadata": {},
   "outputs": [],
   "source": [
    "# Make predictions\n",
    "y_pred_bag_forest = bagging_regressor_forest.predict(X_test_BE)"
   ]
  },
  {
   "cell_type": "code",
   "execution_count": 136,
   "id": "76ab370a",
   "metadata": {},
   "outputs": [
    {
     "name": "stdout",
     "output_type": "stream",
     "text": [
      "MSE:  54173459.44955569\n",
      "Accuracy of the model:  0.6349113841543634\n"
     ]
    }
   ],
   "source": [
    "# Accuracy of the model\n",
    "\n",
    "#Calculating the r squared value and mse:\n",
    "print(\"MSE: \",mean_squared_error(y_test_BE, y_pred_bag_forest))\n",
    "print(\"Accuracy of the model: \", r2_score(y_test_BE, y_pred_bag_forest))"
   ]
  },
  {
   "cell_type": "markdown",
   "id": "3f38b0f9",
   "metadata": {},
   "source": [
    "##  Gradient Boosting"
   ]
  },
  {
   "cell_type": "code",
   "execution_count": 137,
   "id": "8d40ab43",
   "metadata": {},
   "outputs": [],
   "source": [
    "# import libraries\n",
    "from sklearn.ensemble import GradientBoostingRegressor\n",
    "from sklearn.model_selection import GridSearchCV"
   ]
  },
  {
   "cell_type": "code",
   "execution_count": 138,
   "id": "dab113f4",
   "metadata": {},
   "outputs": [],
   "source": [
    "# Create a Gradient Boosting Regressor\n",
    "reg_boost = GradientBoostingRegressor()\n"
   ]
  },
  {
   "cell_type": "code",
   "execution_count": 139,
   "id": "e60d1b07",
   "metadata": {},
   "outputs": [],
   "source": [
    "# create a parameter to search\n",
    "param_test1 = {\n",
    "   'max_depth':range(3,10,2),\n",
    "   'n_estimators':[100,300,500,700],\n",
    "    'learning_rate':[0.01,0.1,1],\n",
    "}"
   ]
  },
  {
   "cell_type": "code",
   "execution_count": 140,
   "id": "4fc58539",
   "metadata": {},
   "outputs": [],
   "source": [
    "# Create GridSearchCV\n",
    "grid_search_boost = GridSearchCV(reg_boost, param_test1,\n",
    "                           n_jobs=-1, cv=5, scoring='accuracy')"
   ]
  },
  {
   "cell_type": "code",
   "execution_count": 141,
   "id": "7ad35bcb",
   "metadata": {},
   "outputs": [
    {
     "name": "stderr",
     "output_type": "stream",
     "text": [
      "C:\\Users\\Navin\\anaconda3\\lib\\site-packages\\sklearn\\model_selection\\_search.py:918: UserWarning: One or more of the test scores are non-finite: [nan nan nan nan nan nan nan nan nan nan nan nan nan nan nan nan nan nan\n",
      " nan nan nan nan nan nan nan nan nan nan nan nan nan nan nan nan nan nan\n",
      " nan nan nan nan nan nan nan nan nan nan nan nan]\n",
      "  warnings.warn(\n"
     ]
    },
    {
     "data": {
      "text/plain": [
       "GridSearchCV(cv=5, estimator=GradientBoostingRegressor(), n_jobs=-1,\n",
       "             param_grid={'learning_rate': [0.01, 0.1, 1],\n",
       "                         'max_depth': range(3, 10, 2),\n",
       "                         'n_estimators': [100, 300, 500, 700]},\n",
       "             scoring='accuracy')"
      ]
     },
     "execution_count": 141,
     "metadata": {},
     "output_type": "execute_result"
    }
   ],
   "source": [
    "# Fit the model on the training data\n",
    "grid_search_boost.fit(X_train_BE, y_train_BE)"
   ]
  },
  {
   "cell_type": "code",
   "execution_count": 142,
   "id": "45eb0983",
   "metadata": {},
   "outputs": [
    {
     "name": "stdout",
     "output_type": "stream",
     "text": [
      "Best Parameters for accuracy: {'learning_rate': 0.01, 'max_depth': 3, 'n_estimators': 100}\n"
     ]
    }
   ],
   "source": [
    "# Get the best parameters\n",
    "best_params_boost = grid_search_boost.best_params_\n",
    "print(\"Best Parameters for accuracy:\",best_params_boost)"
   ]
  },
  {
   "cell_type": "code",
   "execution_count": 143,
   "id": "e85199b6",
   "metadata": {},
   "outputs": [],
   "source": [
    "# Get the best estimator\n",
    "best_regressor_boost= grid_search_boost.best_estimator_"
   ]
  },
  {
   "cell_type": "code",
   "execution_count": 144,
   "id": "3bcc7eac",
   "metadata": {},
   "outputs": [],
   "source": [
    "# Make predictions\n",
    "y_pred_boost = best_regressor_boost.predict(X_test_BE)"
   ]
  },
  {
   "cell_type": "code",
   "execution_count": 145,
   "id": "abb0da58",
   "metadata": {},
   "outputs": [
    {
     "name": "stdout",
     "output_type": "stream",
     "text": [
      "MSE:  69081918.53379504\n",
      "Accuracy of the model:  0.534439515701427\n"
     ]
    }
   ],
   "source": [
    "# Accuracy of the model for Accuracy\n",
    "\n",
    "#Calculating the r squared value and mse:\n",
    "print(\"MSE: \",mean_squared_error(y_test_BE, y_pred_boost))\n",
    "print(\"Accuracy of the model: \", r2_score(y_test_BE, y_pred_boost))"
   ]
  },
  {
   "cell_type": "markdown",
   "id": "9c2aad80",
   "metadata": {},
   "source": [
    "## Ada Boost"
   ]
  },
  {
   "cell_type": "code",
   "execution_count": 146,
   "id": "94b58c6a",
   "metadata": {},
   "outputs": [],
   "source": [
    "# import library\n",
    "from sklearn.ensemble import AdaBoostRegressor\n",
    "from sklearn.model_selection import GridSearchCV"
   ]
  },
  {
   "cell_type": "code",
   "execution_count": 147,
   "id": "ab0ef4a9",
   "metadata": {},
   "outputs": [],
   "source": [
    "# Create a Ada Boost Regressor\n",
    "ada_reg = AdaBoostRegressor(random_state=0)"
   ]
  },
  {
   "cell_type": "code",
   "execution_count": 148,
   "id": "515bf764",
   "metadata": {},
   "outputs": [],
   "source": [
    "# create a parameter to search\n",
    "param_test1 = {\n",
    "   'n_estimators':[100,200,300,400],\n",
    "    'learning_rate':[0.01,0.05,0.1,1]\n",
    "}"
   ]
  },
  {
   "cell_type": "code",
   "execution_count": 149,
   "id": "b7ab2ec0",
   "metadata": {},
   "outputs": [],
   "source": [
    "# Create GridSearchCV\n",
    "grid_search_ada = GridSearchCV(ada_reg , param_test1,\n",
    "                           n_jobs=-1, cv=5, scoring='accuracy')"
   ]
  },
  {
   "cell_type": "code",
   "execution_count": 150,
   "id": "f354eca9",
   "metadata": {},
   "outputs": [
    {
     "name": "stderr",
     "output_type": "stream",
     "text": [
      "C:\\Users\\Navin\\anaconda3\\lib\\site-packages\\sklearn\\model_selection\\_search.py:918: UserWarning: One or more of the test scores are non-finite: [nan nan nan nan nan nan nan nan nan nan nan nan nan nan nan nan]\n",
      "  warnings.warn(\n"
     ]
    },
    {
     "data": {
      "text/plain": [
       "GridSearchCV(cv=5, estimator=AdaBoostRegressor(random_state=0), n_jobs=-1,\n",
       "             param_grid={'learning_rate': [0.01, 0.05, 0.1, 1],\n",
       "                         'n_estimators': [100, 200, 300, 400]},\n",
       "             scoring='accuracy')"
      ]
     },
     "execution_count": 150,
     "metadata": {},
     "output_type": "execute_result"
    }
   ],
   "source": [
    "# Fit the model on the training data\n",
    "grid_search_ada.fit(X_train_BE, y_train_BE)"
   ]
  },
  {
   "cell_type": "code",
   "execution_count": 151,
   "id": "b88d043e",
   "metadata": {},
   "outputs": [
    {
     "name": "stdout",
     "output_type": "stream",
     "text": [
      "Best Parameters for accuracy: {'learning_rate': 0.01, 'n_estimators': 100}\n"
     ]
    }
   ],
   "source": [
    "# Get the best parameters\n",
    "best_params_ada = grid_search_ada.best_params_\n",
    "print(\"Best Parameters for accuracy:\",best_params_ada)"
   ]
  },
  {
   "cell_type": "code",
   "execution_count": 152,
   "id": "37ec192a",
   "metadata": {},
   "outputs": [],
   "source": [
    "# Get the best estimator\n",
    "best_regressor_ada= grid_search_ada.best_estimator_"
   ]
  },
  {
   "cell_type": "code",
   "execution_count": 153,
   "id": "f5aa9991",
   "metadata": {},
   "outputs": [],
   "source": [
    "# Make predictions\n",
    "y_pred_ada = best_regressor_ada.predict(X_test_BE)"
   ]
  },
  {
   "cell_type": "code",
   "execution_count": 154,
   "id": "1482741f",
   "metadata": {},
   "outputs": [
    {
     "name": "stdout",
     "output_type": "stream",
     "text": [
      "MSE:  57010776.17665542\n",
      "Accuracy of the model:  0.6157899906318199\n"
     ]
    }
   ],
   "source": [
    "# Accuracy of the model for Accuracy\n",
    "\n",
    "#Calculating the r squared value and mse:\n",
    "print(\"MSE: \",mean_squared_error(y_test_BE, y_pred_ada))\n",
    "print(\"Accuracy of the model: \", r2_score(y_test_BE, y_pred_ada))"
   ]
  },
  {
   "cell_type": "markdown",
   "id": "f8db20d4",
   "metadata": {},
   "source": [
    "## XG Boost"
   ]
  },
  {
   "cell_type": "code",
   "execution_count": 155,
   "id": "90d8c8ab",
   "metadata": {},
   "outputs": [],
   "source": [
    "# import library\n",
    "import xgboost as xgb"
   ]
  },
  {
   "cell_type": "code",
   "execution_count": 156,
   "id": "8f2b0df4",
   "metadata": {},
   "outputs": [],
   "source": [
    "# Create a XG Boost Regressor\n",
    "xgb_reg= xgb.XGBRegressor(n_estimators=500,\n",
    "    learning_rate=0.1,random_state=0)"
   ]
  },
  {
   "cell_type": "code",
   "execution_count": 157,
   "id": "d6de86c5",
   "metadata": {},
   "outputs": [],
   "source": [
    "# create a parameter to search\n",
    "param_test1 = {\n",
    " 'max_depth':range(3,10,2),\n",
    "    'gamma' : [0.1,0.2,0.3],\n",
    "    'subsample':[0.8,0.9],\n",
    "    'colsample_bytree':[0.8,0.9],\n",
    "    'reg_alpha':[ 1e-2, 0.1, 1]\n",
    "}"
   ]
  },
  {
   "cell_type": "code",
   "execution_count": 158,
   "id": "55bba1ed",
   "metadata": {},
   "outputs": [],
   "source": [
    "# Create GridSearchCV\n",
    "grid_search_xgb= GridSearchCV(xgb_reg, param_test1,\n",
    "                           n_jobs=-1, cv=5, scoring='accuracy')"
   ]
  },
  {
   "cell_type": "code",
   "execution_count": 159,
   "id": "73fc954a",
   "metadata": {},
   "outputs": [
    {
     "name": "stderr",
     "output_type": "stream",
     "text": [
      "C:\\Users\\Navin\\anaconda3\\lib\\site-packages\\sklearn\\model_selection\\_search.py:918: UserWarning: One or more of the test scores are non-finite: [nan nan nan nan nan nan nan nan nan nan nan nan nan nan nan nan nan nan\n",
      " nan nan nan nan nan nan nan nan nan nan nan nan nan nan nan nan nan nan\n",
      " nan nan nan nan nan nan nan nan nan nan nan nan nan nan nan nan nan nan\n",
      " nan nan nan nan nan nan nan nan nan nan nan nan nan nan nan nan nan nan\n",
      " nan nan nan nan nan nan nan nan nan nan nan nan nan nan nan nan nan nan\n",
      " nan nan nan nan nan nan nan nan nan nan nan nan nan nan nan nan nan nan\n",
      " nan nan nan nan nan nan nan nan nan nan nan nan nan nan nan nan nan nan\n",
      " nan nan nan nan nan nan nan nan nan nan nan nan nan nan nan nan nan nan]\n",
      "  warnings.warn(\n"
     ]
    },
    {
     "data": {
      "text/plain": [
       "GridSearchCV(cv=5,\n",
       "             estimator=XGBRegressor(base_score=None, booster=None,\n",
       "                                    callbacks=None, colsample_bylevel=None,\n",
       "                                    colsample_bynode=None,\n",
       "                                    colsample_bytree=None,\n",
       "                                    early_stopping_rounds=None,\n",
       "                                    enable_categorical=False, eval_metric=None,\n",
       "                                    feature_types=None, gamma=None, gpu_id=None,\n",
       "                                    grow_policy=None, importance_type=None,\n",
       "                                    interaction_constraints=None,\n",
       "                                    learning_rate=0.1, ma...\n",
       "                                    max_cat_to_onehot=None, max_delta_step=None,\n",
       "                                    max_depth=None, max_leaves=None,\n",
       "                                    min_child_weight=None, missing=nan,\n",
       "                                    monotone_constraints=None, n_estimators=500,\n",
       "                                    n_jobs=None, num_parallel_tree=None,\n",
       "                                    predictor=None, random_state=0, ...),\n",
       "             n_jobs=-1,\n",
       "             param_grid={'colsample_bytree': [0.8, 0.9],\n",
       "                         'gamma': [0.1, 0.2, 0.3], 'max_depth': range(3, 10, 2),\n",
       "                         'reg_alpha': [0.01, 0.1, 1], 'subsample': [0.8, 0.9]},\n",
       "             scoring='accuracy')"
      ]
     },
     "execution_count": 159,
     "metadata": {},
     "output_type": "execute_result"
    }
   ],
   "source": [
    "# Fit the model on the training data\n",
    "grid_search_xgb.fit(X_train_BE, y_train_BE)"
   ]
  },
  {
   "cell_type": "code",
   "execution_count": 160,
   "id": "7136d275",
   "metadata": {},
   "outputs": [
    {
     "data": {
      "text/plain": [
       "{'colsample_bytree': 0.8,\n",
       " 'gamma': 0.1,\n",
       " 'max_depth': 3,\n",
       " 'reg_alpha': 0.01,\n",
       " 'subsample': 0.8}"
      ]
     },
     "execution_count": 160,
     "metadata": {},
     "output_type": "execute_result"
    }
   ],
   "source": [
    "# Get the best parameters\n",
    "grid_search_xgb.best_params_"
   ]
  },
  {
   "cell_type": "code",
   "execution_count": 161,
   "id": "9ad35c59",
   "metadata": {},
   "outputs": [],
   "source": [
    "# Get the best estimator\n",
    "best_est_xgb = grid_search_xgb.best_estimator_"
   ]
  },
  {
   "cell_type": "code",
   "execution_count": 162,
   "id": "c6599c57",
   "metadata": {},
   "outputs": [],
   "source": [
    "# Make predictions\n",
    "y_pred_xgb=best_est_xgb.predict(X_test_BE)"
   ]
  },
  {
   "cell_type": "code",
   "execution_count": 163,
   "id": "e98e7626",
   "metadata": {},
   "outputs": [
    {
     "name": "stdout",
     "output_type": "stream",
     "text": [
      "MSE:  61124165.02178662\n",
      "Accuracy of the model:  0.588068825043305\n"
     ]
    }
   ],
   "source": [
    "# Accuracy of the model for Accuracy\n",
    "\n",
    "#Calculating the r squared value and mse:\n",
    "print(\"MSE: \",mean_squared_error(y_test_BE, y_pred_xgb))\n",
    "print(\"Accuracy of the model: \", r2_score(y_test_BE, y_pred_xgb))"
   ]
  },
  {
   "cell_type": "code",
   "execution_count": null,
   "id": "a8d7055c",
   "metadata": {},
   "outputs": [],
   "source": []
  }
 ],
 "metadata": {
  "kernelspec": {
   "display_name": "Python 3",
   "language": "python",
   "name": "python3"
  },
  "language_info": {
   "codemirror_mode": {
    "name": "ipython",
    "version": 3
   },
   "file_extension": ".py",
   "mimetype": "text/x-python",
   "name": "python",
   "nbconvert_exporter": "python",
   "pygments_lexer": "ipython3",
   "version": "3.8.8"
  }
 },
 "nbformat": 4,
 "nbformat_minor": 5
}
